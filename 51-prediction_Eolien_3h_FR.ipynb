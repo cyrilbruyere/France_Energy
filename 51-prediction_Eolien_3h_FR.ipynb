{
 "cells": [
  {
   "cell_type": "code",
   "execution_count": 1,
   "metadata": {},
   "outputs": [],
   "source": [
    "import numpy as np\n",
    "import pandas as pd\n",
    "import datetime as dt\n",
    "from dateutil.relativedelta import relativedelta\n",
    "import matplotlib.pyplot as plt\n",
    "%matplotlib inline\n",
    "import statsmodels.api as sm\n",
    "from statsmodels.graphics.tsaplots import plot_pacf, plot_acf\n",
    "from statsmodels.tsa.seasonal import seasonal_decompose\n",
    "from sklearn.metrics import mean_absolute_error, mean_squared_error\n",
    "from sklearn.preprocessing import MinMaxScaler\n",
    "from sklearn.linear_model import LinearRegression"
   ]
  },
  {
   "cell_type": "markdown",
   "metadata": {},
   "source": [
    "# Objectif du notebook\n",
    "\n",
    "Comparer les différentes modélisation possible sur la variable **production éolienne** :\n",
    "\n",
    "* SARIMAX avec des fonctions sinusoïdales correspondant aux saisons observées en régresseurs exogènes\n",
    "* SARIMAX avec des données métier en régresseurs exogènes (vent, précipitation, etc).\n",
    "* SARIMAX avec des données métier FILTREES en régresseurs exogènes\n",
    "* SARIMAX sur le signal filtré par transformation de Fourier sans régresseur\n",
    "* SARIMAX sur le signal filtré avec des données métier FILTREES en régresseurs exogènes\n",
    "* Régression linéaire sur les données métiers FILTREES comme variables explicatives\n",
    "* Régression linéaire sur la variable à expliquée FILTREE et avec les variables explicatives FILTREES.\n",
    "\n",
    "**NOTA BENE :** Pour la période 3h, le calcul avec un modèle SARIMAX n'aboutit pas sans données exogènes en paramètre."
   ]
  },
  {
   "cell_type": "markdown",
   "metadata": {},
   "source": [
    "# Import du dataset original"
   ]
  },
  {
   "cell_type": "code",
   "execution_count": 2,
   "metadata": {},
   "outputs": [
    {
     "data": {
      "text/html": [
       "<div>\n",
       "<style scoped>\n",
       "    .dataframe tbody tr th:only-of-type {\n",
       "        vertical-align: middle;\n",
       "    }\n",
       "\n",
       "    .dataframe tbody tr th {\n",
       "        vertical-align: top;\n",
       "    }\n",
       "\n",
       "    .dataframe thead th {\n",
       "        text-align: right;\n",
       "    }\n",
       "</style>\n",
       "<table border=\"1\" class=\"dataframe\">\n",
       "  <thead>\n",
       "    <tr style=\"text-align: right;\">\n",
       "      <th></th>\n",
       "      <th>Dates</th>\n",
       "      <th>Eolien</th>\n",
       "    </tr>\n",
       "  </thead>\n",
       "  <tbody>\n",
       "    <tr>\n",
       "      <th>0</th>\n",
       "      <td>2013-01-01 00:00:00</td>\n",
       "      <td>3975.8</td>\n",
       "    </tr>\n",
       "  </tbody>\n",
       "</table>\n",
       "</div>"
      ],
      "text/plain": [
       "                 Dates  Eolien\n",
       "0  2013-01-01 00:00:00  3975.8"
      ]
     },
     "execution_count": 2,
     "metadata": {},
     "output_type": "execute_result"
    }
   ],
   "source": [
    "df = pd.read_csv('./dataset/France_3H.csv',\n",
    "                usecols = ['Dates', 'Eolien'])\n",
    "df.head(1)"
   ]
  },
  {
   "cell_type": "code",
   "execution_count": 3,
   "metadata": {},
   "outputs": [
    {
     "data": {
      "text/plain": [
       "(25808, 2)"
      ]
     },
     "execution_count": 3,
     "metadata": {},
     "output_type": "execute_result"
    }
   ],
   "source": [
    "df.shape"
   ]
  },
  {
   "cell_type": "code",
   "execution_count": 4,
   "metadata": {},
   "outputs": [],
   "source": [
    "df['Dates'] = pd.to_datetime(df['Dates'], yearfirst = True)\n",
    "df.set_index('Dates', inplace = True)"
   ]
  },
  {
   "cell_type": "code",
   "execution_count": 5,
   "metadata": {},
   "outputs": [],
   "source": [
    "debut = dt.datetime(year = 2013, month = 1, day = 1)\n",
    "fin = dt.datetime(year = 2020, month = 1, day = 1)"
   ]
  },
  {
   "cell_type": "markdown",
   "metadata": {},
   "source": [
    "# Conversion en taux de charge pour annuler l'évolution dans le temps"
   ]
  },
  {
   "cell_type": "code",
   "execution_count": 6,
   "metadata": {},
   "outputs": [],
   "source": [
    "capa = pd.read_csv('./datasource/capacite_eolien_FR.csv',\n",
    "                  usecols = ['Dates', 'Capa_eol'])\n",
    "capa['Dates'] = pd.to_datetime(capa['Dates'], format = '%Y/%m/%d %H:%M:%S', yearfirst = True)\n",
    "capa.set_index('Dates', inplace = True)"
   ]
  },
  {
   "cell_type": "code",
   "execution_count": 7,
   "metadata": {},
   "outputs": [
    {
     "data": {
      "text/plain": [
       "(25808, 1)"
      ]
     },
     "execution_count": 7,
     "metadata": {},
     "output_type": "execute_result"
    }
   ],
   "source": [
    "capa.shape"
   ]
  },
  {
   "cell_type": "code",
   "execution_count": 8,
   "metadata": {},
   "outputs": [
    {
     "data": {
      "text/html": [
       "<div>\n",
       "<style scoped>\n",
       "    .dataframe tbody tr th:only-of-type {\n",
       "        vertical-align: middle;\n",
       "    }\n",
       "\n",
       "    .dataframe tbody tr th {\n",
       "        vertical-align: top;\n",
       "    }\n",
       "\n",
       "    .dataframe thead th {\n",
       "        text-align: right;\n",
       "    }\n",
       "</style>\n",
       "<table border=\"1\" class=\"dataframe\">\n",
       "  <thead>\n",
       "    <tr style=\"text-align: right;\">\n",
       "      <th></th>\n",
       "      <th>Eolien</th>\n",
       "      <th>Capa_eol</th>\n",
       "      <th>TCH_eol</th>\n",
       "    </tr>\n",
       "    <tr>\n",
       "      <th>Dates</th>\n",
       "      <th></th>\n",
       "      <th></th>\n",
       "      <th></th>\n",
       "    </tr>\n",
       "  </thead>\n",
       "  <tbody>\n",
       "    <tr>\n",
       "      <th>2013-01-01 00:00:00</th>\n",
       "      <td>3975.800000</td>\n",
       "      <td>7519</td>\n",
       "      <td>0.528767</td>\n",
       "    </tr>\n",
       "    <tr>\n",
       "      <th>2013-01-01 03:00:00</th>\n",
       "      <td>3538.166667</td>\n",
       "      <td>7519</td>\n",
       "      <td>0.470563</td>\n",
       "    </tr>\n",
       "    <tr>\n",
       "      <th>2013-01-01 06:00:00</th>\n",
       "      <td>3313.833333</td>\n",
       "      <td>7519</td>\n",
       "      <td>0.440728</td>\n",
       "    </tr>\n",
       "    <tr>\n",
       "      <th>2013-01-01 09:00:00</th>\n",
       "      <td>2749.833333</td>\n",
       "      <td>7519</td>\n",
       "      <td>0.365718</td>\n",
       "    </tr>\n",
       "    <tr>\n",
       "      <th>2013-01-01 12:00:00</th>\n",
       "      <td>2274.666667</td>\n",
       "      <td>7519</td>\n",
       "      <td>0.302522</td>\n",
       "    </tr>\n",
       "    <tr>\n",
       "      <th>...</th>\n",
       "      <td>...</td>\n",
       "      <td>...</td>\n",
       "      <td>...</td>\n",
       "    </tr>\n",
       "    <tr>\n",
       "      <th>2021-10-31 09:00:00</th>\n",
       "      <td>11114.833333</td>\n",
       "      <td>18570</td>\n",
       "      <td>0.598537</td>\n",
       "    </tr>\n",
       "    <tr>\n",
       "      <th>2021-10-31 12:00:00</th>\n",
       "      <td>12269.666667</td>\n",
       "      <td>18570</td>\n",
       "      <td>0.660725</td>\n",
       "    </tr>\n",
       "    <tr>\n",
       "      <th>2021-10-31 15:00:00</th>\n",
       "      <td>11351.000000</td>\n",
       "      <td>18570</td>\n",
       "      <td>0.611255</td>\n",
       "    </tr>\n",
       "    <tr>\n",
       "      <th>2021-10-31 18:00:00</th>\n",
       "      <td>9482.333333</td>\n",
       "      <td>18570</td>\n",
       "      <td>0.510626</td>\n",
       "    </tr>\n",
       "    <tr>\n",
       "      <th>2021-10-31 21:00:00</th>\n",
       "      <td>8779.666667</td>\n",
       "      <td>18570</td>\n",
       "      <td>0.472788</td>\n",
       "    </tr>\n",
       "  </tbody>\n",
       "</table>\n",
       "<p>25808 rows × 3 columns</p>\n",
       "</div>"
      ],
      "text/plain": [
       "                           Eolien  Capa_eol   TCH_eol\n",
       "Dates                                                \n",
       "2013-01-01 00:00:00   3975.800000      7519  0.528767\n",
       "2013-01-01 03:00:00   3538.166667      7519  0.470563\n",
       "2013-01-01 06:00:00   3313.833333      7519  0.440728\n",
       "2013-01-01 09:00:00   2749.833333      7519  0.365718\n",
       "2013-01-01 12:00:00   2274.666667      7519  0.302522\n",
       "...                           ...       ...       ...\n",
       "2021-10-31 09:00:00  11114.833333     18570  0.598537\n",
       "2021-10-31 12:00:00  12269.666667     18570  0.660725\n",
       "2021-10-31 15:00:00  11351.000000     18570  0.611255\n",
       "2021-10-31 18:00:00   9482.333333     18570  0.510626\n",
       "2021-10-31 21:00:00   8779.666667     18570  0.472788\n",
       "\n",
       "[25808 rows x 3 columns]"
      ]
     },
     "execution_count": 8,
     "metadata": {},
     "output_type": "execute_result"
    }
   ],
   "source": [
    "df = pd.concat([df, capa], axis = 1)\n",
    "df['TCH_eol'] = df['Eolien'] / df['Capa_eol']\n",
    "df"
   ]
  },
  {
   "cell_type": "code",
   "execution_count": 9,
   "metadata": {},
   "outputs": [],
   "source": [
    "df.to_csv('eolien.csv', sep=';')"
   ]
  },
  {
   "cell_type": "code",
   "execution_count": 9,
   "metadata": {
    "scrolled": false
   },
   "outputs": [
    {
     "data": {
      "image/png": "[encoded data removed]",
      "text/plain": [
       "<Figure size 1152x432 with 1 Axes>"
      ]
     },
     "metadata": {
      "needs_background": "light"
     },
     "output_type": "display_data"
    }
   ],
   "source": [
    "plt.figure(figsize=(16, 6))\n",
    "plt.plot(df['Eolien'][(df.index >= debut) & (df.index < fin)])\n",
    "for year in range(debut.year, fin.year + 1): \n",
    "    plt.axvline(pd.to_datetime(str(year)+'-01-01'), color='k', linestyle='--', alpha=0.5);"
   ]
  },
  {
   "cell_type": "code",
   "execution_count": 10,
   "metadata": {},
   "outputs": [
    {
     "data": {
      "image/png": "[encoded data removed]",
      "text/plain": [
       "<Figure size 1152x432 with 1 Axes>"
      ]
     },
     "metadata": {
      "needs_background": "light"
     },
     "output_type": "display_data"
    }
   ],
   "source": [
    "plt.figure(figsize=(16, 6))\n",
    "plt.plot(df['TCH_eol'][(df.index >= debut) & (df.index < fin)])\n",
    "for year in range(debut.year, fin.year + 1): \n",
    "    plt.axvline(pd.to_datetime(str(year)+'-01-01'), color='k', linestyle='--', alpha=0.5);"
   ]
  },
  {
   "cell_type": "markdown",
   "metadata": {},
   "source": [
    "### Test de stationnarité"
   ]
  },
  {
   "cell_type": "code",
   "execution_count": 11,
   "metadata": {},
   "outputs": [
    {
     "data": {
      "text/plain": [
       "(-13.884944194996958,\n",
       " 6.114282846592169e-26,\n",
       " 49,\n",
       " 25758,\n",
       " {'1%': -3.4306038998292085,\n",
       "  '5%': -2.8616522161827964,\n",
       "  '10%': -2.566829729367711},\n",
       " -95766.34015790067)"
      ]
     },
     "execution_count": 11,
     "metadata": {},
     "output_type": "execute_result"
    }
   ],
   "source": [
    "# la 2ème valeur donne la p_value (stationnaire si < 5%)\n",
    "sm.tsa.stattools.adfuller(df['TCH_eol'])"
   ]
  },
  {
   "cell_type": "markdown",
   "metadata": {},
   "source": [
    "### Coéfficients SARIMAX et saisonnalités"
   ]
  },
  {
   "cell_type": "code",
   "execution_count": 12,
   "metadata": {},
   "outputs": [
    {
     "data": {
      "image/png": "[encoded data removed]",
      "text/plain": [
       "<Figure size 1152x432 with 2 Axes>"
      ]
     },
     "metadata": {
      "needs_background": "light"
     },
     "output_type": "display_data"
    }
   ],
   "source": [
    "fig, (ax1, ax2) = plt.subplots(1, 2, figsize=(16,6))\n",
    "plot_acf(df['TCH_eol'], lags = 100, ax=ax1)\n",
    "plot_pacf(df['TCH_eol'], lags = 100, ax=ax2)\n",
    "plt.show()"
   ]
  },
  {
   "cell_type": "markdown",
   "metadata": {},
   "source": [
    "**Saisonnalités :**\n",
    "* jour"
   ]
  },
  {
   "cell_type": "markdown",
   "metadata": {},
   "source": [
    "# Import du dataset filtré (Transformation de Fourier)"
   ]
  },
  {
   "cell_type": "code",
   "execution_count": 13,
   "metadata": {},
   "outputs": [
    {
     "data": {
      "text/html": [
       "<div>\n",
       "<style scoped>\n",
       "    .dataframe tbody tr th:only-of-type {\n",
       "        vertical-align: middle;\n",
       "    }\n",
       "\n",
       "    .dataframe tbody tr th {\n",
       "        vertical-align: top;\n",
       "    }\n",
       "\n",
       "    .dataframe thead th {\n",
       "        text-align: right;\n",
       "    }\n",
       "</style>\n",
       "<table border=\"1\" class=\"dataframe\">\n",
       "  <thead>\n",
       "    <tr style=\"text-align: right;\">\n",
       "      <th></th>\n",
       "      <th>Dates</th>\n",
       "      <th>Eolien</th>\n",
       "    </tr>\n",
       "  </thead>\n",
       "  <tbody>\n",
       "    <tr>\n",
       "      <th>0</th>\n",
       "      <td>2013-01-01 00:00:00</td>\n",
       "      <td>5085.207663</td>\n",
       "    </tr>\n",
       "  </tbody>\n",
       "</table>\n",
       "</div>"
      ],
      "text/plain": [
       "                 Dates       Eolien\n",
       "0  2013-01-01 00:00:00  5085.207663"
      ]
     },
     "execution_count": 13,
     "metadata": {},
     "output_type": "execute_result"
    }
   ],
   "source": [
    "df_filtered = pd.read_csv('./dataset/France_3H_filtered.csv',\n",
    "                usecols = ['Dates', 'Eolien'])\n",
    "df_filtered.head(1)"
   ]
  },
  {
   "cell_type": "code",
   "execution_count": 14,
   "metadata": {},
   "outputs": [],
   "source": [
    "df_filtered['Dates'] = pd.to_datetime(df_filtered['Dates'], yearfirst = True)\n",
    "df_filtered.set_index('Dates', inplace = True)"
   ]
  },
  {
   "cell_type": "code",
   "execution_count": 15,
   "metadata": {},
   "outputs": [],
   "source": [
    "df_filtered = pd.concat([df_filtered, capa], axis = 1)\n",
    "df_filtered['TCH_eol'] = df_filtered['Eolien'] / df_filtered['Capa_eol']"
   ]
  },
  {
   "cell_type": "code",
   "execution_count": 16,
   "metadata": {
    "scrolled": false
   },
   "outputs": [
    {
     "data": {
      "image/png": "[encoded data removed]",
      "text/plain": [
       "<Figure size 1152x432 with 1 Axes>"
      ]
     },
     "metadata": {
      "needs_background": "light"
     },
     "output_type": "display_data"
    }
   ],
   "source": [
    "plt.figure(figsize=(16, 6))\n",
    "plt.plot(df_filtered['Eolien'][(df.index >= debut) & (df.index < fin)])\n",
    "for year in range(debut.year, fin.year + 1): \n",
    "    plt.axvline(pd.to_datetime(str(year)+'-01-01'), color='k', linestyle='--', alpha=0.5);"
   ]
  },
  {
   "cell_type": "code",
   "execution_count": 17,
   "metadata": {},
   "outputs": [
    {
     "data": {
      "image/png": "[encoded data removed]",
      "text/plain": [
       "<Figure size 1152x432 with 1 Axes>"
      ]
     },
     "metadata": {
      "needs_background": "light"
     },
     "output_type": "display_data"
    }
   ],
   "source": [
    "plt.figure(figsize=(16, 6))\n",
    "plt.plot(df_filtered['TCH_eol'][(df.index >= debut) & (df.index < fin)])\n",
    "for year in range(debut.year, fin.year + 1): \n",
    "    plt.axvline(pd.to_datetime(str(year)+'-01-01'), color='k', linestyle='--', alpha=0.5);"
   ]
  },
  {
   "cell_type": "markdown",
   "metadata": {},
   "source": [
    "# Jeux d'entrainement et de test"
   ]
  },
  {
   "cell_type": "code",
   "execution_count": 18,
   "metadata": {},
   "outputs": [],
   "source": [
    "df_train = df[(df.index >= debut) & (df.index < fin)]\n",
    "df_test = df[df.index >= fin]"
   ]
  },
  {
   "cell_type": "code",
   "execution_count": 19,
   "metadata": {},
   "outputs": [],
   "source": [
    "df_train_filter = df_filtered[(df_filtered.index >= debut) & (df_filtered.index < fin)]\n",
    "df_test_filter = df_filtered[df_filtered.index >= fin]"
   ]
  },
  {
   "cell_type": "code",
   "execution_count": 20,
   "metadata": {},
   "outputs": [],
   "source": [
    "fenetre = df_test.shape[0]"
   ]
  },
  {
   "cell_type": "code",
   "execution_count": 21,
   "metadata": {},
   "outputs": [],
   "source": [
    "indice = df_test.index"
   ]
  },
  {
   "cell_type": "code",
   "execution_count": 22,
   "metadata": {},
   "outputs": [],
   "source": [
    "bilan = df_test"
   ]
  },
  {
   "cell_type": "markdown",
   "metadata": {},
   "source": [
    "# Paramètres SARIMAX"
   ]
  },
  {
   "cell_type": "code",
   "execution_count": 23,
   "metadata": {},
   "outputs": [],
   "source": [
    "ordre = (3,0,0)\n",
    "saison = (2,0,0,8)"
   ]
  },
  {
   "cell_type": "markdown",
   "metadata": {},
   "source": [
    "# Régresseurs exogènes : sinus & cosinus suivant les saisonnalités"
   ]
  },
  {
   "cell_type": "code",
   "execution_count": 24,
   "metadata": {},
   "outputs": [],
   "source": [
    "exog = pd.DataFrame({'date': df.index})\n",
    "exog['date'] = pd.to_datetime(exog['date'])\n",
    "# suivant saisonnalités\n",
    "# exog['sin_D'] = np.sin(2 * np.pi * exog.index / 8)\n",
    "# exog['cos_D'] = np.cos(2 * np.pi * exog.index / 8)\n",
    "# exog['sin_W'] = np.sin(2 * np.pi * exog.index / 7)\n",
    "# exog['cos_W'] = np.cos(2 * np.pi * exog.index / 7)\n",
    "exog['sin_Y'] = np.sin(2 * np.pi * exog.index / 365.25)\n",
    "exog['cos_Y'] = np.cos(2 * np.pi * exog.index / 365.25)\n",
    "exog.set_index('date', inplace = True)"
   ]
  },
  {
   "cell_type": "code",
   "execution_count": 25,
   "metadata": {},
   "outputs": [],
   "source": [
    "# Split en jeu d'entrainement et jeu de test\n",
    "exog_train = exog[(exog.index >= debut) & (exog.index < fin)]\n",
    "exog_test = exog[exog.index >= fin]"
   ]
  },
  {
   "cell_type": "code",
   "execution_count": 26,
   "metadata": {},
   "outputs": [
    {
     "name": "stderr",
     "output_type": "stream",
     "text": [
      "<ipython-input-26-56416ee0eedf>:2: FutureWarning: The pandas.datetime class is deprecated and will be removed from pandas in a future version. Import from datetime module instead.\n",
      "  plt.plot(exog[(exog.index >= pd.datetime(2016, 1, 1)) & (exog.index < pd.datetime(2016, 1, 15))])\n"
     ]
    },
    {
     "data": {
      "text/plain": [
       "''"
      ]
     },
     "execution_count": 26,
     "metadata": {},
     "output_type": "execute_result"
    },
    {
     "data": {
      "image/png": "[encoded data removed]",
      "text/plain": [
       "<Figure size 1152x288 with 1 Axes>"
      ]
     },
     "metadata": {
      "needs_background": "light"
     },
     "output_type": "display_data"
    }
   ],
   "source": [
    "plt.figure(figsize=(16, 4))\n",
    "plt.plot(exog[(exog.index >= pd.datetime(2016, 1, 1)) & (exog.index < pd.datetime(2016, 1, 15))])\n",
    "# for year in range(debut.year, fin.year + 1): \n",
    "#     plt.axvline(pd.to_datetime(str(year)+'-01-01'), color='k', linestyle='--', alpha=0.5)\n",
    ";"
   ]
  },
  {
   "cell_type": "markdown",
   "metadata": {},
   "source": [
    "### SARIMAX"
   ]
  },
  {
   "cell_type": "code",
   "execution_count": 27,
   "metadata": {},
   "outputs": [
    {
     "name": "stderr",
     "output_type": "stream",
     "text": [
      "C:\\Python\\Anaconda3\\lib\\site-packages\\statsmodels\\base\\model.py:566: ConvergenceWarning: Maximum Likelihood optimization failed to converge. Check mle_retvals\n",
      "  warnings.warn(\"Maximum Likelihood optimization failed to \"\n"
     ]
    }
   ],
   "source": [
    "model_sinus = sm.tsa.SARIMAX(df_train['TCH_eol'].values,\n",
    "                             exog = exog_train.values,\n",
    "                             order = ordre,\n",
    "                             seasonal_order = saison)\n",
    "result_sinus = model_sinus.fit()"
   ]
  },
  {
   "cell_type": "code",
   "execution_count": 28,
   "metadata": {},
   "outputs": [],
   "source": [
    "predict_sinus = result_sinus.predict(start = 1 ,\n",
    "                                     end = fenetre,\n",
    "                                     exog = exog_test.values)"
   ]
  },
  {
   "cell_type": "code",
   "execution_count": 29,
   "metadata": {},
   "outputs": [],
   "source": [
    "predict_sinus = pd.DataFrame(predict_sinus, columns=['Eol_p_sinus'], index = indice)"
   ]
  },
  {
   "cell_type": "code",
   "execution_count": 30,
   "metadata": {},
   "outputs": [],
   "source": [
    "bilan = pd.concat([bilan, predict_sinus], axis = 1)"
   ]
  },
  {
   "cell_type": "markdown",
   "metadata": {},
   "source": [
    "### Erreur absolue"
   ]
  },
  {
   "cell_type": "code",
   "execution_count": 31,
   "metadata": {},
   "outputs": [
    {
     "data": {
      "text/html": [
       "<div>\n",
       "<style scoped>\n",
       "    .dataframe tbody tr th:only-of-type {\n",
       "        vertical-align: middle;\n",
       "    }\n",
       "\n",
       "    .dataframe tbody tr th {\n",
       "        vertical-align: top;\n",
       "    }\n",
       "\n",
       "    .dataframe thead th {\n",
       "        text-align: right;\n",
       "    }\n",
       "</style>\n",
       "<table border=\"1\" class=\"dataframe\">\n",
       "  <thead>\n",
       "    <tr style=\"text-align: right;\">\n",
       "      <th></th>\n",
       "      <th>Eolien</th>\n",
       "      <th>Capa_eol</th>\n",
       "      <th>TCH_eol</th>\n",
       "      <th>Eol_p_sinus</th>\n",
       "      <th>Err_sinus</th>\n",
       "    </tr>\n",
       "  </thead>\n",
       "  <tbody>\n",
       "    <tr>\n",
       "      <th>count</th>\n",
       "      <td>5360.000000</td>\n",
       "      <td>5360.000000</td>\n",
       "      <td>5360.000000</td>\n",
       "      <td>5360.000000</td>\n",
       "      <td>5360.000000</td>\n",
       "    </tr>\n",
       "    <tr>\n",
       "      <th>mean</th>\n",
       "      <td>4270.149689</td>\n",
       "      <td>17517.977612</td>\n",
       "      <td>0.245102</td>\n",
       "      <td>0.219094</td>\n",
       "      <td>0.167043</td>\n",
       "    </tr>\n",
       "    <tr>\n",
       "      <th>std</th>\n",
       "      <td>3155.214841</td>\n",
       "      <td>599.239016</td>\n",
       "      <td>0.182926</td>\n",
       "      <td>0.163859</td>\n",
       "      <td>0.149554</td>\n",
       "    </tr>\n",
       "    <tr>\n",
       "      <th>min</th>\n",
       "      <td>93.833333</td>\n",
       "      <td>16494.000000</td>\n",
       "      <td>0.005102</td>\n",
       "      <td>-0.035832</td>\n",
       "      <td>0.000047</td>\n",
       "    </tr>\n",
       "    <tr>\n",
       "      <th>25%</th>\n",
       "      <td>1772.583333</td>\n",
       "      <td>16999.000000</td>\n",
       "      <td>0.100891</td>\n",
       "      <td>0.096310</td>\n",
       "      <td>0.051459</td>\n",
       "    </tr>\n",
       "    <tr>\n",
       "      <th>50%</th>\n",
       "      <td>3351.333333</td>\n",
       "      <td>17507.000000</td>\n",
       "      <td>0.191223</td>\n",
       "      <td>0.175980</td>\n",
       "      <td>0.121957</td>\n",
       "    </tr>\n",
       "    <tr>\n",
       "      <th>75%</th>\n",
       "      <td>6128.958333</td>\n",
       "      <td>18036.000000</td>\n",
       "      <td>0.351667</td>\n",
       "      <td>0.299505</td>\n",
       "      <td>0.238786</td>\n",
       "    </tr>\n",
       "    <tr>\n",
       "      <th>max</th>\n",
       "      <td>14456.166667</td>\n",
       "      <td>18570.000000</td>\n",
       "      <td>0.810869</td>\n",
       "      <td>0.848968</td>\n",
       "      <td>0.794229</td>\n",
       "    </tr>\n",
       "  </tbody>\n",
       "</table>\n",
       "</div>"
      ],
      "text/plain": [
       "             Eolien      Capa_eol      TCH_eol  Eol_p_sinus    Err_sinus\n",
       "count   5360.000000   5360.000000  5360.000000  5360.000000  5360.000000\n",
       "mean    4270.149689  17517.977612     0.245102     0.219094     0.167043\n",
       "std     3155.214841    599.239016     0.182926     0.163859     0.149554\n",
       "min       93.833333  16494.000000     0.005102    -0.035832     0.000047\n",
       "25%     1772.583333  16999.000000     0.100891     0.096310     0.051459\n",
       "50%     3351.333333  17507.000000     0.191223     0.175980     0.121957\n",
       "75%     6128.958333  18036.000000     0.351667     0.299505     0.238786\n",
       "max    14456.166667  18570.000000     0.810869     0.848968     0.794229"
      ]
     },
     "execution_count": 31,
     "metadata": {},
     "output_type": "execute_result"
    }
   ],
   "source": [
    "bilan['Err_sinus'] = np.abs(bilan['Eol_p_sinus'] - bilan['TCH_eol'])\n",
    "bilan.describe()"
   ]
  },
  {
   "cell_type": "markdown",
   "metadata": {},
   "source": [
    "# Régresseurs exogènes : données métier"
   ]
  },
  {
   "cell_type": "code",
   "execution_count": 32,
   "metadata": {},
   "outputs": [
    {
     "data": {
      "text/html": [
       "<div>\n",
       "<style scoped>\n",
       "    .dataframe tbody tr th:only-of-type {\n",
       "        vertical-align: middle;\n",
       "    }\n",
       "\n",
       "    .dataframe tbody tr th {\n",
       "        vertical-align: top;\n",
       "    }\n",
       "\n",
       "    .dataframe thead th {\n",
       "        text-align: right;\n",
       "    }\n",
       "</style>\n",
       "<table border=\"1\" class=\"dataframe\">\n",
       "  <thead>\n",
       "    <tr style=\"text-align: right;\">\n",
       "      <th></th>\n",
       "      <th>Dates</th>\n",
       "      <th>Vent</th>\n",
       "      <th>Humidite</th>\n",
       "      <th>Pluie_eol</th>\n",
       "      <th>Temperature_eol</th>\n",
       "      <th>Diff_pression</th>\n",
       "    </tr>\n",
       "  </thead>\n",
       "  <tbody>\n",
       "    <tr>\n",
       "      <th>0</th>\n",
       "      <td>2013-01-01 00:00:00</td>\n",
       "      <td>5.409751</td>\n",
       "      <td>86.301303</td>\n",
       "      <td>1.000891</td>\n",
       "      <td>8.130811</td>\n",
       "      <td>-1288.211642</td>\n",
       "    </tr>\n",
       "  </tbody>\n",
       "</table>\n",
       "</div>"
      ],
      "text/plain": [
       "                 Dates      Vent   Humidite  Pluie_eol  Temperature_eol  \\\n",
       "0  2013-01-01 00:00:00  5.409751  86.301303   1.000891         8.130811   \n",
       "\n",
       "   Diff_pression  \n",
       "0   -1288.211642  "
      ]
     },
     "execution_count": 32,
     "metadata": {},
     "output_type": "execute_result"
    }
   ],
   "source": [
    "exog = pd.read_csv('./exog/exog_3H_FR.csv', sep = ';',\n",
    "                   usecols = ['Dates', 'Vent', 'Humidite', 'Pluie_eol', 'Temperature_eol', 'Diff_pression'])\n",
    "exog.head(1)"
   ]
  },
  {
   "cell_type": "code",
   "execution_count": 33,
   "metadata": {},
   "outputs": [],
   "source": [
    "exog['Dates'] = pd.to_datetime(exog['Dates'], yearfirst = True)\n",
    "exog.set_index('Dates', inplace = True)"
   ]
  },
  {
   "cell_type": "code",
   "execution_count": 34,
   "metadata": {},
   "outputs": [],
   "source": [
    "# Split en jeu d'entrainement et jeu de test\n",
    "exog_train = exog[(exog.index >= debut) & (exog.index < fin)]\n",
    "exog_test = exog[exog.index >= fin]"
   ]
  },
  {
   "cell_type": "markdown",
   "metadata": {},
   "source": [
    "### SARIMAX"
   ]
  },
  {
   "cell_type": "code",
   "execution_count": 35,
   "metadata": {},
   "outputs": [],
   "source": [
    "model_exog = sm.tsa.SARIMAX(df_train['TCH_eol'].values,\n",
    "                       exog = exog_train.values,\n",
    "                       # mle_regression = False, # Default = True\n",
    "                       # simple_differencing = True, #Default = False\n",
    "                       # state_regression = False,\n",
    "                       order = ordre,\n",
    "                       seasonal_order = saison)"
   ]
  },
  {
   "cell_type": "code",
   "execution_count": 36,
   "metadata": {},
   "outputs": [
    {
     "name": "stderr",
     "output_type": "stream",
     "text": [
      "C:\\Python\\Anaconda3\\lib\\site-packages\\statsmodels\\base\\model.py:566: ConvergenceWarning: Maximum Likelihood optimization failed to converge. Check mle_retvals\n",
      "  warnings.warn(\"Maximum Likelihood optimization failed to \"\n"
     ]
    }
   ],
   "source": [
    "result_exog = model_exog.fit(low_memory=True)"
   ]
  },
  {
   "cell_type": "code",
   "execution_count": 37,
   "metadata": {},
   "outputs": [
    {
     "data": {
      "text/html": [
       "<table class=\"simpletable\">\n",
       "<caption>SARIMAX Results</caption>\n",
       "<tr>\n",
       "  <th>Dep. Variable:</th>                 <td>y</td>               <th>  No. Observations:  </th>    <td>20448</td>  \n",
       "</tr>\n",
       "<tr>\n",
       "  <th>Model:</th>           <td>SARIMAX(3, 0, 0)x(2, 0, 0, 8)</td> <th>  Log Likelihood     </th>  <td>34998.019</td>\n",
       "</tr>\n",
       "<tr>\n",
       "  <th>Date:</th>                  <td>Wed, 04 May 2022</td>        <th>  AIC                </th> <td>-69974.038</td>\n",
       "</tr>\n",
       "<tr>\n",
       "  <th>Time:</th>                      <td>10:30:44</td>            <th>  BIC                </th> <td>-69886.856</td>\n",
       "</tr>\n",
       "<tr>\n",
       "  <th>Sample:</th>                        <td>0</td>               <th>  HQIC               </th> <td>-69945.545</td>\n",
       "</tr>\n",
       "<tr>\n",
       "  <th></th>                           <td> - 20448</td>            <th>                     </th>      <td> </td>    \n",
       "</tr>\n",
       "<tr>\n",
       "  <th>Covariance Type:</th>            <td>approx</td>             <th>                     </th>      <td> </td>    \n",
       "</tr>\n",
       "</table>\n",
       "<table class=\"simpletable\">\n",
       "<tr>\n",
       "      <td></td>        <th>coef</th>     <th>std err</th>      <th>z</th>      <th>P>|z|</th>  <th>[0.025</th>    <th>0.975]</th>  \n",
       "</tr>\n",
       "<tr>\n",
       "  <th>x1</th>       <td>    0.0759</td> <td>      nan</td> <td>      nan</td> <td>   nan</td> <td>      nan</td> <td>      nan</td>\n",
       "</tr>\n",
       "<tr>\n",
       "  <th>x2</th>       <td>    0.0005</td> <td> 8.39e-05</td> <td>    6.121</td> <td> 0.000</td> <td>    0.000</td> <td>    0.001</td>\n",
       "</tr>\n",
       "<tr>\n",
       "  <th>x3</th>       <td>   -0.0078</td> <td>    0.001</td> <td>  -10.783</td> <td> 0.000</td> <td>   -0.009</td> <td>   -0.006</td>\n",
       "</tr>\n",
       "<tr>\n",
       "  <th>x4</th>       <td>   -0.0132</td> <td>    0.000</td> <td>  -68.262</td> <td> 0.000</td> <td>   -0.014</td> <td>   -0.013</td>\n",
       "</tr>\n",
       "<tr>\n",
       "  <th>x5</th>       <td>-5.727e-05</td> <td>      nan</td> <td>      nan</td> <td>   nan</td> <td>      nan</td> <td>      nan</td>\n",
       "</tr>\n",
       "<tr>\n",
       "  <th>ar.L1</th>    <td>    0.8840</td> <td>      nan</td> <td>      nan</td> <td>   nan</td> <td>      nan</td> <td>      nan</td>\n",
       "</tr>\n",
       "<tr>\n",
       "  <th>ar.L2</th>    <td>   -0.1569</td> <td>    0.008</td> <td>  -20.854</td> <td> 0.000</td> <td>   -0.172</td> <td>   -0.142</td>\n",
       "</tr>\n",
       "<tr>\n",
       "  <th>ar.L3</th>    <td>   -0.0162</td> <td>    0.007</td> <td>   -2.334</td> <td> 0.020</td> <td>   -0.030</td> <td>   -0.003</td>\n",
       "</tr>\n",
       "<tr>\n",
       "  <th>ar.S.L8</th>  <td>    0.4275</td> <td>    0.005</td> <td>   79.665</td> <td> 0.000</td> <td>    0.417</td> <td>    0.438</td>\n",
       "</tr>\n",
       "<tr>\n",
       "  <th>ar.S.L16</th> <td>    0.1302</td> <td>    0.007</td> <td>   19.715</td> <td> 0.000</td> <td>    0.117</td> <td>    0.143</td>\n",
       "</tr>\n",
       "<tr>\n",
       "  <th>sigma2</th>   <td>    0.0017</td> <td>      nan</td> <td>      nan</td> <td>   nan</td> <td>      nan</td> <td>      nan</td>\n",
       "</tr>\n",
       "</table>\n",
       "<table class=\"simpletable\">\n",
       "<tr>\n",
       "  <th>Ljung-Box (L1) (Q):</th>     <td>242.82</td> <th>  Jarque-Bera (JB):  </th> <td>460.44</td>\n",
       "</tr>\n",
       "<tr>\n",
       "  <th>Prob(Q):</th>                 <td>0.00</td>  <th>  Prob(JB):          </th>  <td>0.00</td> \n",
       "</tr>\n",
       "<tr>\n",
       "  <th>Heteroskedasticity (H):</th>  <td>1.07</td>  <th>  Skew:              </th>  <td>0.23</td> \n",
       "</tr>\n",
       "<tr>\n",
       "  <th>Prob(H) (two-sided):</th>     <td>0.01</td>  <th>  Kurtosis:          </th>  <td>3.58</td> \n",
       "</tr>\n",
       "</table><br/><br/>Warnings:<br/>[1] Covariance matrix calculated using numerical (complex-step) differentiation."
      ],
      "text/plain": [
       "<class 'statsmodels.iolib.summary.Summary'>\n",
       "\"\"\"\n",
       "                                     SARIMAX Results                                     \n",
       "=========================================================================================\n",
       "Dep. Variable:                                 y   No. Observations:                20448\n",
       "Model:             SARIMAX(3, 0, 0)x(2, 0, 0, 8)   Log Likelihood               34998.019\n",
       "Date:                           Wed, 04 May 2022   AIC                         -69974.038\n",
       "Time:                                   10:30:44   BIC                         -69886.856\n",
       "Sample:                                        0   HQIC                        -69945.545\n",
       "                                         - 20448                                         \n",
       "Covariance Type:                          approx                                         \n",
       "==============================================================================\n",
       "                 coef    std err          z      P>|z|      [0.025      0.975]\n",
       "------------------------------------------------------------------------------\n",
       "x1             0.0759        nan        nan        nan         nan         nan\n",
       "x2             0.0005   8.39e-05      6.121      0.000       0.000       0.001\n",
       "x3            -0.0078      0.001    -10.783      0.000      -0.009      -0.006\n",
       "x4            -0.0132      0.000    -68.262      0.000      -0.014      -0.013\n",
       "x5         -5.727e-05        nan        nan        nan         nan         nan\n",
       "ar.L1          0.8840        nan        nan        nan         nan         nan\n",
       "ar.L2         -0.1569      0.008    -20.854      0.000      -0.172      -0.142\n",
       "ar.L3         -0.0162      0.007     -2.334      0.020      -0.030      -0.003\n",
       "ar.S.L8        0.4275      0.005     79.665      0.000       0.417       0.438\n",
       "ar.S.L16       0.1302      0.007     19.715      0.000       0.117       0.143\n",
       "sigma2         0.0017        nan        nan        nan         nan         nan\n",
       "===================================================================================\n",
       "Ljung-Box (L1) (Q):                 242.82   Jarque-Bera (JB):               460.44\n",
       "Prob(Q):                              0.00   Prob(JB):                         0.00\n",
       "Heteroskedasticity (H):               1.07   Skew:                             0.23\n",
       "Prob(H) (two-sided):                  0.01   Kurtosis:                         3.58\n",
       "===================================================================================\n",
       "\n",
       "Warnings:\n",
       "[1] Covariance matrix calculated using numerical (complex-step) differentiation.\n",
       "\"\"\""
      ]
     },
     "execution_count": 37,
     "metadata": {},
     "output_type": "execute_result"
    }
   ],
   "source": [
    "result_exog.summary()"
   ]
  },
  {
   "cell_type": "code",
   "execution_count": 38,
   "metadata": {},
   "outputs": [],
   "source": [
    "predict_exog = result_exog.predict(start = 1 ,\n",
    "                               end = fenetre,\n",
    "                               exog = exog_test.values)"
   ]
  },
  {
   "cell_type": "code",
   "execution_count": 39,
   "metadata": {},
   "outputs": [],
   "source": [
    "predict_exog = pd.DataFrame(predict_exog, index = indice, columns = ['Eol_p_exog'])"
   ]
  },
  {
   "cell_type": "code",
   "execution_count": 40,
   "metadata": {
    "scrolled": true
   },
   "outputs": [],
   "source": [
    "bilan = pd.concat([bilan, predict_exog], axis = 1)"
   ]
  },
  {
   "cell_type": "markdown",
   "metadata": {},
   "source": [
    "### Erreur absolue"
   ]
  },
  {
   "cell_type": "code",
   "execution_count": 41,
   "metadata": {},
   "outputs": [
    {
     "data": {
      "text/html": [
       "<div>\n",
       "<style scoped>\n",
       "    .dataframe tbody tr th:only-of-type {\n",
       "        vertical-align: middle;\n",
       "    }\n",
       "\n",
       "    .dataframe tbody tr th {\n",
       "        vertical-align: top;\n",
       "    }\n",
       "\n",
       "    .dataframe thead th {\n",
       "        text-align: right;\n",
       "    }\n",
       "</style>\n",
       "<table border=\"1\" class=\"dataframe\">\n",
       "  <thead>\n",
       "    <tr style=\"text-align: right;\">\n",
       "      <th></th>\n",
       "      <th>Eolien</th>\n",
       "      <th>Capa_eol</th>\n",
       "      <th>TCH_eol</th>\n",
       "      <th>Eol_p_sinus</th>\n",
       "      <th>Err_sinus</th>\n",
       "      <th>Eol_p_exog</th>\n",
       "      <th>Err_exog</th>\n",
       "    </tr>\n",
       "  </thead>\n",
       "  <tbody>\n",
       "    <tr>\n",
       "      <th>count</th>\n",
       "      <td>5360.000000</td>\n",
       "      <td>5360.000000</td>\n",
       "      <td>5360.000000</td>\n",
       "      <td>5360.000000</td>\n",
       "      <td>5360.000000</td>\n",
       "      <td>5360.000000</td>\n",
       "      <td>5360.000000</td>\n",
       "    </tr>\n",
       "    <tr>\n",
       "      <th>mean</th>\n",
       "      <td>4270.149689</td>\n",
       "      <td>17517.977612</td>\n",
       "      <td>0.245102</td>\n",
       "      <td>0.219094</td>\n",
       "      <td>0.167043</td>\n",
       "      <td>0.225329</td>\n",
       "      <td>0.162110</td>\n",
       "    </tr>\n",
       "    <tr>\n",
       "      <th>std</th>\n",
       "      <td>3155.214841</td>\n",
       "      <td>599.239016</td>\n",
       "      <td>0.182926</td>\n",
       "      <td>0.163859</td>\n",
       "      <td>0.149554</td>\n",
       "      <td>0.157409</td>\n",
       "      <td>0.143706</td>\n",
       "    </tr>\n",
       "    <tr>\n",
       "      <th>min</th>\n",
       "      <td>93.833333</td>\n",
       "      <td>16494.000000</td>\n",
       "      <td>0.005102</td>\n",
       "      <td>-0.035832</td>\n",
       "      <td>0.000047</td>\n",
       "      <td>-0.087166</td>\n",
       "      <td>0.000004</td>\n",
       "    </tr>\n",
       "    <tr>\n",
       "      <th>25%</th>\n",
       "      <td>1772.583333</td>\n",
       "      <td>16999.000000</td>\n",
       "      <td>0.100891</td>\n",
       "      <td>0.096310</td>\n",
       "      <td>0.051459</td>\n",
       "      <td>0.108250</td>\n",
       "      <td>0.053352</td>\n",
       "    </tr>\n",
       "    <tr>\n",
       "      <th>50%</th>\n",
       "      <td>3351.333333</td>\n",
       "      <td>17507.000000</td>\n",
       "      <td>0.191223</td>\n",
       "      <td>0.175980</td>\n",
       "      <td>0.121957</td>\n",
       "      <td>0.190612</td>\n",
       "      <td>0.119414</td>\n",
       "    </tr>\n",
       "    <tr>\n",
       "      <th>75%</th>\n",
       "      <td>6128.958333</td>\n",
       "      <td>18036.000000</td>\n",
       "      <td>0.351667</td>\n",
       "      <td>0.299505</td>\n",
       "      <td>0.238786</td>\n",
       "      <td>0.305642</td>\n",
       "      <td>0.232865</td>\n",
       "    </tr>\n",
       "    <tr>\n",
       "      <th>max</th>\n",
       "      <td>14456.166667</td>\n",
       "      <td>18570.000000</td>\n",
       "      <td>0.810869</td>\n",
       "      <td>0.848968</td>\n",
       "      <td>0.794229</td>\n",
       "      <td>0.887712</td>\n",
       "      <td>0.819360</td>\n",
       "    </tr>\n",
       "  </tbody>\n",
       "</table>\n",
       "</div>"
      ],
      "text/plain": [
       "             Eolien      Capa_eol      TCH_eol  Eol_p_sinus    Err_sinus  \\\n",
       "count   5360.000000   5360.000000  5360.000000  5360.000000  5360.000000   \n",
       "mean    4270.149689  17517.977612     0.245102     0.219094     0.167043   \n",
       "std     3155.214841    599.239016     0.182926     0.163859     0.149554   \n",
       "min       93.833333  16494.000000     0.005102    -0.035832     0.000047   \n",
       "25%     1772.583333  16999.000000     0.100891     0.096310     0.051459   \n",
       "50%     3351.333333  17507.000000     0.191223     0.175980     0.121957   \n",
       "75%     6128.958333  18036.000000     0.351667     0.299505     0.238786   \n",
       "max    14456.166667  18570.000000     0.810869     0.848968     0.794229   \n",
       "\n",
       "        Eol_p_exog     Err_exog  \n",
       "count  5360.000000  5360.000000  \n",
       "mean      0.225329     0.162110  \n",
       "std       0.157409     0.143706  \n",
       "min      -0.087166     0.000004  \n",
       "25%       0.108250     0.053352  \n",
       "50%       0.190612     0.119414  \n",
       "75%       0.305642     0.232865  \n",
       "max       0.887712     0.819360  "
      ]
     },
     "execution_count": 41,
     "metadata": {},
     "output_type": "execute_result"
    }
   ],
   "source": [
    "bilan['Err_exog'] = np.abs(bilan['Eol_p_exog'] - bilan['TCH_eol'])\n",
    "bilan.describe()"
   ]
  },
  {
   "cell_type": "markdown",
   "metadata": {},
   "source": [
    "# Régresseurs exogènes : données métier FILTREES"
   ]
  },
  {
   "cell_type": "code",
   "execution_count": 42,
   "metadata": {},
   "outputs": [
    {
     "data": {
      "text/html": [
       "<div>\n",
       "<style scoped>\n",
       "    .dataframe tbody tr th:only-of-type {\n",
       "        vertical-align: middle;\n",
       "    }\n",
       "\n",
       "    .dataframe tbody tr th {\n",
       "        vertical-align: top;\n",
       "    }\n",
       "\n",
       "    .dataframe thead th {\n",
       "        text-align: right;\n",
       "    }\n",
       "</style>\n",
       "<table border=\"1\" class=\"dataframe\">\n",
       "  <thead>\n",
       "    <tr style=\"text-align: right;\">\n",
       "      <th></th>\n",
       "      <th>Dates</th>\n",
       "      <th>Vent</th>\n",
       "      <th>Humidite</th>\n",
       "      <th>Pluie_eol</th>\n",
       "      <th>Temperature_eol</th>\n",
       "      <th>Diff_pression</th>\n",
       "    </tr>\n",
       "  </thead>\n",
       "  <tbody>\n",
       "    <tr>\n",
       "      <th>0</th>\n",
       "      <td>2013-01-01 00:00:00</td>\n",
       "      <td>5.269459</td>\n",
       "      <td>92.900351</td>\n",
       "      <td>0.602728</td>\n",
       "      <td>10.172597</td>\n",
       "      <td>-1286.569161</td>\n",
       "    </tr>\n",
       "  </tbody>\n",
       "</table>\n",
       "</div>"
      ],
      "text/plain": [
       "                 Dates      Vent   Humidite  Pluie_eol  Temperature_eol  \\\n",
       "0  2013-01-01 00:00:00  5.269459  92.900351   0.602728        10.172597   \n",
       "\n",
       "   Diff_pression  \n",
       "0   -1286.569161  "
      ]
     },
     "execution_count": 42,
     "metadata": {},
     "output_type": "execute_result"
    }
   ],
   "source": [
    "exog = pd.read_csv('./exog/exog_3H_FR_filtered.csv',# sep = ';',\n",
    "                   usecols = ['Dates', 'Vent', 'Humidite', 'Pluie_eol', 'Temperature_eol', 'Diff_pression'])\n",
    "exog.head(1)"
   ]
  },
  {
   "cell_type": "code",
   "execution_count": 43,
   "metadata": {},
   "outputs": [],
   "source": [
    "exog['Dates'] = pd.to_datetime(exog['Dates'], yearfirst = True)\n",
    "exog.set_index('Dates', inplace = True)"
   ]
  },
  {
   "cell_type": "code",
   "execution_count": 44,
   "metadata": {},
   "outputs": [],
   "source": [
    "# Split en jeu d'entrainement et jeu de test\n",
    "exog_train = exog[(exog.index >= debut) & (exog.index < fin)]\n",
    "exog_test = exog[exog.index >= fin]"
   ]
  },
  {
   "cell_type": "markdown",
   "metadata": {},
   "source": [
    "### SARIMAX"
   ]
  },
  {
   "cell_type": "code",
   "execution_count": 45,
   "metadata": {},
   "outputs": [],
   "source": [
    "model_filter = sm.tsa.SARIMAX(df_train['TCH_eol'].values,\n",
    "                       exog = exog_train.values,\n",
    "                       # mle_regression = False, # Default = True\n",
    "                       # simple_differencing = True, #Default = False\n",
    "                       # state_regression = False,\n",
    "                       order = ordre,\n",
    "                       seasonal_order = saison)"
   ]
  },
  {
   "cell_type": "code",
   "execution_count": 46,
   "metadata": {},
   "outputs": [],
   "source": [
    "result_filter = model_filter.fit(low_memory=True)"
   ]
  },
  {
   "cell_type": "code",
   "execution_count": 47,
   "metadata": {},
   "outputs": [
    {
     "data": {
      "text/html": [
       "<table class=\"simpletable\">\n",
       "<caption>SARIMAX Results</caption>\n",
       "<tr>\n",
       "  <th>Dep. Variable:</th>                 <td>y</td>               <th>  No. Observations:  </th>    <td>20448</td>  \n",
       "</tr>\n",
       "<tr>\n",
       "  <th>Model:</th>           <td>SARIMAX(3, 0, 0)x(2, 0, 0, 8)</td> <th>  Log Likelihood     </th>  <td>37576.910</td>\n",
       "</tr>\n",
       "<tr>\n",
       "  <th>Date:</th>                  <td>Wed, 04 May 2022</td>        <th>  AIC                </th> <td>-75131.820</td>\n",
       "</tr>\n",
       "<tr>\n",
       "  <th>Time:</th>                      <td>10:31:44</td>            <th>  BIC                </th> <td>-75044.638</td>\n",
       "</tr>\n",
       "<tr>\n",
       "  <th>Sample:</th>                        <td>0</td>               <th>  HQIC               </th> <td>-75103.328</td>\n",
       "</tr>\n",
       "<tr>\n",
       "  <th></th>                           <td> - 20448</td>            <th>                     </th>      <td> </td>    \n",
       "</tr>\n",
       "<tr>\n",
       "  <th>Covariance Type:</th>            <td>approx</td>             <th>                     </th>      <td> </td>    \n",
       "</tr>\n",
       "</table>\n",
       "<table class=\"simpletable\">\n",
       "<tr>\n",
       "      <td></td>        <th>coef</th>     <th>std err</th>      <th>z</th>      <th>P>|z|</th>  <th>[0.025</th>    <th>0.975]</th>  \n",
       "</tr>\n",
       "<tr>\n",
       "  <th>x1</th>       <td>    0.0950</td> <td>    0.002</td> <td>   51.390</td> <td> 0.000</td> <td>    0.091</td> <td>    0.099</td>\n",
       "</tr>\n",
       "<tr>\n",
       "  <th>x2</th>       <td>    0.0044</td> <td>    0.000</td> <td>   25.716</td> <td> 0.000</td> <td>    0.004</td> <td>    0.005</td>\n",
       "</tr>\n",
       "<tr>\n",
       "  <th>x3</th>       <td>    0.0275</td> <td>    0.003</td> <td>    8.898</td> <td> 0.000</td> <td>    0.021</td> <td>    0.034</td>\n",
       "</tr>\n",
       "<tr>\n",
       "  <th>x4</th>       <td>   -0.0029</td> <td>    0.000</td> <td>   -6.653</td> <td> 0.000</td> <td>   -0.004</td> <td>   -0.002</td>\n",
       "</tr>\n",
       "<tr>\n",
       "  <th>x5</th>       <td>    0.0003</td> <td> 1.65e-05</td> <td>   20.721</td> <td> 0.000</td> <td>    0.000</td> <td>    0.000</td>\n",
       "</tr>\n",
       "<tr>\n",
       "  <th>ar.L1</th>    <td>    1.4430</td> <td>    0.008</td> <td>  187.567</td> <td> 0.000</td> <td>    1.428</td> <td>    1.458</td>\n",
       "</tr>\n",
       "<tr>\n",
       "  <th>ar.L2</th>    <td>   -0.7722</td> <td>    0.012</td> <td>  -62.628</td> <td> 0.000</td> <td>   -0.796</td> <td>   -0.748</td>\n",
       "</tr>\n",
       "<tr>\n",
       "  <th>ar.L3</th>    <td>    0.1635</td> <td>    0.008</td> <td>   20.835</td> <td> 0.000</td> <td>    0.148</td> <td>    0.179</td>\n",
       "</tr>\n",
       "<tr>\n",
       "  <th>ar.S.L8</th>  <td>    0.1626</td> <td>    0.011</td> <td>   15.069</td> <td> 0.000</td> <td>    0.141</td> <td>    0.184</td>\n",
       "</tr>\n",
       "<tr>\n",
       "  <th>ar.S.L16</th> <td>    0.1502</td> <td>    0.011</td> <td>   14.184</td> <td> 0.000</td> <td>    0.129</td> <td>    0.171</td>\n",
       "</tr>\n",
       "<tr>\n",
       "  <th>sigma2</th>   <td>    0.0017</td> <td> 2.35e-05</td> <td>   74.504</td> <td> 0.000</td> <td>    0.002</td> <td>    0.002</td>\n",
       "</tr>\n",
       "</table>\n",
       "<table class=\"simpletable\">\n",
       "<tr>\n",
       "  <th>Ljung-Box (L1) (Q):</th>     <td>35.67</td> <th>  Jarque-Bera (JB):  </th> <td>2457.63</td>\n",
       "</tr>\n",
       "<tr>\n",
       "  <th>Prob(Q):</th>                <td>0.00</td>  <th>  Prob(JB):          </th>  <td>0.00</td>  \n",
       "</tr>\n",
       "<tr>\n",
       "  <th>Heteroskedasticity (H):</th> <td>1.04</td>  <th>  Skew:              </th>  <td>0.46</td>  \n",
       "</tr>\n",
       "<tr>\n",
       "  <th>Prob(H) (two-sided):</th>    <td>0.11</td>  <th>  Kurtosis:          </th>  <td>4.43</td>  \n",
       "</tr>\n",
       "</table><br/><br/>Warnings:<br/>[1] Covariance matrix calculated using numerical (complex-step) differentiation."
      ],
      "text/plain": [
       "<class 'statsmodels.iolib.summary.Summary'>\n",
       "\"\"\"\n",
       "                                     SARIMAX Results                                     \n",
       "=========================================================================================\n",
       "Dep. Variable:                                 y   No. Observations:                20448\n",
       "Model:             SARIMAX(3, 0, 0)x(2, 0, 0, 8)   Log Likelihood               37576.910\n",
       "Date:                           Wed, 04 May 2022   AIC                         -75131.820\n",
       "Time:                                   10:31:44   BIC                         -75044.638\n",
       "Sample:                                        0   HQIC                        -75103.328\n",
       "                                         - 20448                                         \n",
       "Covariance Type:                          approx                                         \n",
       "==============================================================================\n",
       "                 coef    std err          z      P>|z|      [0.025      0.975]\n",
       "------------------------------------------------------------------------------\n",
       "x1             0.0950      0.002     51.390      0.000       0.091       0.099\n",
       "x2             0.0044      0.000     25.716      0.000       0.004       0.005\n",
       "x3             0.0275      0.003      8.898      0.000       0.021       0.034\n",
       "x4            -0.0029      0.000     -6.653      0.000      -0.004      -0.002\n",
       "x5             0.0003   1.65e-05     20.721      0.000       0.000       0.000\n",
       "ar.L1          1.4430      0.008    187.567      0.000       1.428       1.458\n",
       "ar.L2         -0.7722      0.012    -62.628      0.000      -0.796      -0.748\n",
       "ar.L3          0.1635      0.008     20.835      0.000       0.148       0.179\n",
       "ar.S.L8        0.1626      0.011     15.069      0.000       0.141       0.184\n",
       "ar.S.L16       0.1502      0.011     14.184      0.000       0.129       0.171\n",
       "sigma2         0.0017   2.35e-05     74.504      0.000       0.002       0.002\n",
       "===================================================================================\n",
       "Ljung-Box (L1) (Q):                  35.67   Jarque-Bera (JB):              2457.63\n",
       "Prob(Q):                              0.00   Prob(JB):                         0.00\n",
       "Heteroskedasticity (H):               1.04   Skew:                             0.46\n",
       "Prob(H) (two-sided):                  0.11   Kurtosis:                         4.43\n",
       "===================================================================================\n",
       "\n",
       "Warnings:\n",
       "[1] Covariance matrix calculated using numerical (complex-step) differentiation.\n",
       "\"\"\""
      ]
     },
     "execution_count": 47,
     "metadata": {},
     "output_type": "execute_result"
    }
   ],
   "source": [
    "result_filter.summary()"
   ]
  },
  {
   "cell_type": "code",
   "execution_count": 48,
   "metadata": {},
   "outputs": [],
   "source": [
    "predict_filter = result_filter.predict(start = 1 ,\n",
    "                               end = fenetre,\n",
    "                               exog = exog_test.values)"
   ]
  },
  {
   "cell_type": "code",
   "execution_count": 49,
   "metadata": {},
   "outputs": [],
   "source": [
    "predict_filter = pd.DataFrame(predict_filter, index = indice, columns = ['Eol_p_filter'])"
   ]
  },
  {
   "cell_type": "code",
   "execution_count": 50,
   "metadata": {
    "scrolled": true
   },
   "outputs": [],
   "source": [
    "bilan = pd.concat([bilan, predict_filter], axis = 1)"
   ]
  },
  {
   "cell_type": "markdown",
   "metadata": {},
   "source": [
    "### Erreur absolue"
   ]
  },
  {
   "cell_type": "code",
   "execution_count": 51,
   "metadata": {},
   "outputs": [
    {
     "data": {
      "text/html": [
       "<div>\n",
       "<style scoped>\n",
       "    .dataframe tbody tr th:only-of-type {\n",
       "        vertical-align: middle;\n",
       "    }\n",
       "\n",
       "    .dataframe tbody tr th {\n",
       "        vertical-align: top;\n",
       "    }\n",
       "\n",
       "    .dataframe thead th {\n",
       "        text-align: right;\n",
       "    }\n",
       "</style>\n",
       "<table border=\"1\" class=\"dataframe\">\n",
       "  <thead>\n",
       "    <tr style=\"text-align: right;\">\n",
       "      <th></th>\n",
       "      <th>Eolien</th>\n",
       "      <th>Capa_eol</th>\n",
       "      <th>TCH_eol</th>\n",
       "      <th>Eol_p_sinus</th>\n",
       "      <th>Err_sinus</th>\n",
       "      <th>Eol_p_exog</th>\n",
       "      <th>Err_exog</th>\n",
       "      <th>Eol_p_filter</th>\n",
       "      <th>Err_exog_filter</th>\n",
       "    </tr>\n",
       "  </thead>\n",
       "  <tbody>\n",
       "    <tr>\n",
       "      <th>count</th>\n",
       "      <td>5360.000000</td>\n",
       "      <td>5360.000000</td>\n",
       "      <td>5360.000000</td>\n",
       "      <td>5360.000000</td>\n",
       "      <td>5360.000000</td>\n",
       "      <td>5360.000000</td>\n",
       "      <td>5360.000000</td>\n",
       "      <td>5360.000000</td>\n",
       "      <td>5360.000000</td>\n",
       "    </tr>\n",
       "    <tr>\n",
       "      <th>mean</th>\n",
       "      <td>4270.149689</td>\n",
       "      <td>17517.977612</td>\n",
       "      <td>0.245102</td>\n",
       "      <td>0.219094</td>\n",
       "      <td>0.167043</td>\n",
       "      <td>0.225329</td>\n",
       "      <td>0.162110</td>\n",
       "      <td>0.224965</td>\n",
       "      <td>0.163398</td>\n",
       "    </tr>\n",
       "    <tr>\n",
       "      <th>std</th>\n",
       "      <td>3155.214841</td>\n",
       "      <td>599.239016</td>\n",
       "      <td>0.182926</td>\n",
       "      <td>0.163859</td>\n",
       "      <td>0.149554</td>\n",
       "      <td>0.157409</td>\n",
       "      <td>0.143706</td>\n",
       "      <td>0.158937</td>\n",
       "      <td>0.146406</td>\n",
       "    </tr>\n",
       "    <tr>\n",
       "      <th>min</th>\n",
       "      <td>93.833333</td>\n",
       "      <td>16494.000000</td>\n",
       "      <td>0.005102</td>\n",
       "      <td>-0.035832</td>\n",
       "      <td>0.000047</td>\n",
       "      <td>-0.087166</td>\n",
       "      <td>0.000004</td>\n",
       "      <td>-0.039260</td>\n",
       "      <td>0.000056</td>\n",
       "    </tr>\n",
       "    <tr>\n",
       "      <th>25%</th>\n",
       "      <td>1772.583333</td>\n",
       "      <td>16999.000000</td>\n",
       "      <td>0.100891</td>\n",
       "      <td>0.096310</td>\n",
       "      <td>0.051459</td>\n",
       "      <td>0.108250</td>\n",
       "      <td>0.053352</td>\n",
       "      <td>0.104866</td>\n",
       "      <td>0.050005</td>\n",
       "    </tr>\n",
       "    <tr>\n",
       "      <th>50%</th>\n",
       "      <td>3351.333333</td>\n",
       "      <td>17507.000000</td>\n",
       "      <td>0.191223</td>\n",
       "      <td>0.175980</td>\n",
       "      <td>0.121957</td>\n",
       "      <td>0.190612</td>\n",
       "      <td>0.119414</td>\n",
       "      <td>0.185445</td>\n",
       "      <td>0.119178</td>\n",
       "    </tr>\n",
       "    <tr>\n",
       "      <th>75%</th>\n",
       "      <td>6128.958333</td>\n",
       "      <td>18036.000000</td>\n",
       "      <td>0.351667</td>\n",
       "      <td>0.299505</td>\n",
       "      <td>0.238786</td>\n",
       "      <td>0.305642</td>\n",
       "      <td>0.232865</td>\n",
       "      <td>0.302314</td>\n",
       "      <td>0.233809</td>\n",
       "    </tr>\n",
       "    <tr>\n",
       "      <th>max</th>\n",
       "      <td>14456.166667</td>\n",
       "      <td>18570.000000</td>\n",
       "      <td>0.810869</td>\n",
       "      <td>0.848968</td>\n",
       "      <td>0.794229</td>\n",
       "      <td>0.887712</td>\n",
       "      <td>0.819360</td>\n",
       "      <td>0.823272</td>\n",
       "      <td>0.780694</td>\n",
       "    </tr>\n",
       "  </tbody>\n",
       "</table>\n",
       "</div>"
      ],
      "text/plain": [
       "             Eolien      Capa_eol      TCH_eol  Eol_p_sinus    Err_sinus  \\\n",
       "count   5360.000000   5360.000000  5360.000000  5360.000000  5360.000000   \n",
       "mean    4270.149689  17517.977612     0.245102     0.219094     0.167043   \n",
       "std     3155.214841    599.239016     0.182926     0.163859     0.149554   \n",
       "min       93.833333  16494.000000     0.005102    -0.035832     0.000047   \n",
       "25%     1772.583333  16999.000000     0.100891     0.096310     0.051459   \n",
       "50%     3351.333333  17507.000000     0.191223     0.175980     0.121957   \n",
       "75%     6128.958333  18036.000000     0.351667     0.299505     0.238786   \n",
       "max    14456.166667  18570.000000     0.810869     0.848968     0.794229   \n",
       "\n",
       "        Eol_p_exog     Err_exog  Eol_p_filter  Err_exog_filter  \n",
       "count  5360.000000  5360.000000   5360.000000      5360.000000  \n",
       "mean      0.225329     0.162110      0.224965         0.163398  \n",
       "std       0.157409     0.143706      0.158937         0.146406  \n",
       "min      -0.087166     0.000004     -0.039260         0.000056  \n",
       "25%       0.108250     0.053352      0.104866         0.050005  \n",
       "50%       0.190612     0.119414      0.185445         0.119178  \n",
       "75%       0.305642     0.232865      0.302314         0.233809  \n",
       "max       0.887712     0.819360      0.823272         0.780694  "
      ]
     },
     "execution_count": 51,
     "metadata": {},
     "output_type": "execute_result"
    }
   ],
   "source": [
    "bilan['Err_exog_filter'] = np.abs(bilan['Eol_p_filter'] - bilan['TCH_eol'])\n",
    "bilan.describe()"
   ]
  },
  {
   "cell_type": "markdown",
   "metadata": {},
   "source": [
    "# Target FILTREE sans régresseur"
   ]
  },
  {
   "cell_type": "markdown",
   "metadata": {},
   "source": [
    "### SARIMAX"
   ]
  },
  {
   "cell_type": "code",
   "execution_count": 52,
   "metadata": {},
   "outputs": [],
   "source": [
    "model_reduit_noreg = sm.tsa.SARIMAX(df_train_filter['TCH_eol'].values,\n",
    "                       # exog = exog_train.values,\n",
    "                       # mle_regression = False, # Default = True\n",
    "                       # simple_differencing = True, #Default = False\n",
    "                       # state_regression = False,\n",
    "                       order = ordre,\n",
    "                       seasonal_order = saison)"
   ]
  },
  {
   "cell_type": "code",
   "execution_count": 53,
   "metadata": {},
   "outputs": [
    {
     "name": "stderr",
     "output_type": "stream",
     "text": [
      "C:\\Python\\Anaconda3\\lib\\site-packages\\statsmodels\\base\\model.py:566: ConvergenceWarning: Maximum Likelihood optimization failed to converge. Check mle_retvals\n",
      "  warnings.warn(\"Maximum Likelihood optimization failed to \"\n"
     ]
    }
   ],
   "source": [
    "result_reduit_noreg = model_reduit_noreg.fit(low_memory=True)"
   ]
  },
  {
   "cell_type": "code",
   "execution_count": 54,
   "metadata": {},
   "outputs": [
    {
     "data": {
      "text/html": [
       "<table class=\"simpletable\">\n",
       "<caption>SARIMAX Results</caption>\n",
       "<tr>\n",
       "  <th>Dep. Variable:</th>                 <td>y</td>               <th>  No. Observations:  </th>    <td>20448</td>   \n",
       "</tr>\n",
       "<tr>\n",
       "  <th>Model:</th>           <td>SARIMAX(3, 0, 0)x(2, 0, 0, 8)</td> <th>  Log Likelihood     </th>  <td>51479.814</td> \n",
       "</tr>\n",
       "<tr>\n",
       "  <th>Date:</th>                  <td>Wed, 04 May 2022</td>        <th>  AIC                </th> <td>-102947.629</td>\n",
       "</tr>\n",
       "<tr>\n",
       "  <th>Time:</th>                      <td>10:32:09</td>            <th>  BIC                </th> <td>-102900.075</td>\n",
       "</tr>\n",
       "<tr>\n",
       "  <th>Sample:</th>                        <td>0</td>               <th>  HQIC               </th> <td>-102932.087</td>\n",
       "</tr>\n",
       "<tr>\n",
       "  <th></th>                           <td> - 20448</td>            <th>                     </th>      <td> </td>     \n",
       "</tr>\n",
       "<tr>\n",
       "  <th>Covariance Type:</th>            <td>approx</td>             <th>                     </th>      <td> </td>     \n",
       "</tr>\n",
       "</table>\n",
       "<table class=\"simpletable\">\n",
       "<tr>\n",
       "      <td></td>        <th>coef</th>     <th>std err</th>      <th>z</th>      <th>P>|z|</th>  <th>[0.025</th>    <th>0.975]</th>  \n",
       "</tr>\n",
       "<tr>\n",
       "  <th>ar.L1</th>    <td>    2.3077</td> <td>    0.005</td> <td>  447.370</td> <td> 0.000</td> <td>    2.298</td> <td>    2.318</td>\n",
       "</tr>\n",
       "<tr>\n",
       "  <th>ar.L2</th>    <td>   -2.0032</td> <td>    0.009</td> <td> -211.998</td> <td> 0.000</td> <td>   -2.022</td> <td>   -1.985</td>\n",
       "</tr>\n",
       "<tr>\n",
       "  <th>ar.L3</th>    <td>    0.6674</td> <td>    0.005</td> <td>  128.691</td> <td> 0.000</td> <td>    0.657</td> <td>    0.678</td>\n",
       "</tr>\n",
       "<tr>\n",
       "  <th>ar.S.L8</th>  <td>    0.4877</td> <td>    0.007</td> <td>   73.052</td> <td> 0.000</td> <td>    0.475</td> <td>    0.501</td>\n",
       "</tr>\n",
       "<tr>\n",
       "  <th>ar.S.L16</th> <td>    0.3975</td> <td>    0.007</td> <td>   59.812</td> <td> 0.000</td> <td>    0.384</td> <td>    0.411</td>\n",
       "</tr>\n",
       "<tr>\n",
       "  <th>sigma2</th>   <td>    0.0004</td> <td> 3.66e-06</td> <td>  102.374</td> <td> 0.000</td> <td>    0.000</td> <td>    0.000</td>\n",
       "</tr>\n",
       "</table>\n",
       "<table class=\"simpletable\">\n",
       "<tr>\n",
       "  <th>Ljung-Box (L1) (Q):</th>     <td>3858.76</td> <th>  Jarque-Bera (JB):  </th> <td>250.81</td>\n",
       "</tr>\n",
       "<tr>\n",
       "  <th>Prob(Q):</th>                 <td>0.00</td>   <th>  Prob(JB):          </th>  <td>0.00</td> \n",
       "</tr>\n",
       "<tr>\n",
       "  <th>Heteroskedasticity (H):</th>  <td>0.67</td>   <th>  Skew:              </th>  <td>0.02</td> \n",
       "</tr>\n",
       "<tr>\n",
       "  <th>Prob(H) (two-sided):</th>     <td>0.00</td>   <th>  Kurtosis:          </th>  <td>3.54</td> \n",
       "</tr>\n",
       "</table><br/><br/>Warnings:<br/>[1] Covariance matrix calculated using numerical (complex-step) differentiation."
      ],
      "text/plain": [
       "<class 'statsmodels.iolib.summary.Summary'>\n",
       "\"\"\"\n",
       "                                     SARIMAX Results                                     \n",
       "=========================================================================================\n",
       "Dep. Variable:                                 y   No. Observations:                20448\n",
       "Model:             SARIMAX(3, 0, 0)x(2, 0, 0, 8)   Log Likelihood               51479.814\n",
       "Date:                           Wed, 04 May 2022   AIC                        -102947.629\n",
       "Time:                                   10:32:09   BIC                        -102900.075\n",
       "Sample:                                        0   HQIC                       -102932.087\n",
       "                                         - 20448                                         \n",
       "Covariance Type:                          approx                                         \n",
       "==============================================================================\n",
       "                 coef    std err          z      P>|z|      [0.025      0.975]\n",
       "------------------------------------------------------------------------------\n",
       "ar.L1          2.3077      0.005    447.370      0.000       2.298       2.318\n",
       "ar.L2         -2.0032      0.009   -211.998      0.000      -2.022      -1.985\n",
       "ar.L3          0.6674      0.005    128.691      0.000       0.657       0.678\n",
       "ar.S.L8        0.4877      0.007     73.052      0.000       0.475       0.501\n",
       "ar.S.L16       0.3975      0.007     59.812      0.000       0.384       0.411\n",
       "sigma2         0.0004   3.66e-06    102.374      0.000       0.000       0.000\n",
       "===================================================================================\n",
       "Ljung-Box (L1) (Q):                3858.76   Jarque-Bera (JB):               250.81\n",
       "Prob(Q):                              0.00   Prob(JB):                         0.00\n",
       "Heteroskedasticity (H):               0.67   Skew:                             0.02\n",
       "Prob(H) (two-sided):                  0.00   Kurtosis:                         3.54\n",
       "===================================================================================\n",
       "\n",
       "Warnings:\n",
       "[1] Covariance matrix calculated using numerical (complex-step) differentiation.\n",
       "\"\"\""
      ]
     },
     "execution_count": 54,
     "metadata": {},
     "output_type": "execute_result"
    }
   ],
   "source": [
    "result_reduit_noreg.summary()"
   ]
  },
  {
   "cell_type": "code",
   "execution_count": 55,
   "metadata": {},
   "outputs": [],
   "source": [
    "predict_reduit_noreg = result_reduit_noreg.predict(start = 1 ,\n",
    "                               end = fenetre,\n",
    "                               # exog = exog_test.values\n",
    "                            )"
   ]
  },
  {
   "cell_type": "code",
   "execution_count": 56,
   "metadata": {},
   "outputs": [],
   "source": [
    "predict_reduit_noreg = pd.DataFrame(predict_reduit_noreg, index = indice, columns = ['Eol_p_reduit_noreg'])"
   ]
  },
  {
   "cell_type": "code",
   "execution_count": 57,
   "metadata": {
    "scrolled": true
   },
   "outputs": [],
   "source": [
    "bilan = pd.concat([bilan, predict_reduit_noreg], axis = 1)"
   ]
  },
  {
   "cell_type": "markdown",
   "metadata": {},
   "source": [
    "### Erreur absolue"
   ]
  },
  {
   "cell_type": "code",
   "execution_count": 58,
   "metadata": {},
   "outputs": [
    {
     "data": {
      "text/html": [
       "<div>\n",
       "<style scoped>\n",
       "    .dataframe tbody tr th:only-of-type {\n",
       "        vertical-align: middle;\n",
       "    }\n",
       "\n",
       "    .dataframe tbody tr th {\n",
       "        vertical-align: top;\n",
       "    }\n",
       "\n",
       "    .dataframe thead th {\n",
       "        text-align: right;\n",
       "    }\n",
       "</style>\n",
       "<table border=\"1\" class=\"dataframe\">\n",
       "  <thead>\n",
       "    <tr style=\"text-align: right;\">\n",
       "      <th></th>\n",
       "      <th>Eolien</th>\n",
       "      <th>Capa_eol</th>\n",
       "      <th>TCH_eol</th>\n",
       "      <th>Eol_p_sinus</th>\n",
       "      <th>Err_sinus</th>\n",
       "      <th>Eol_p_exog</th>\n",
       "      <th>Err_exog</th>\n",
       "      <th>Eol_p_filter</th>\n",
       "      <th>Err_exog_filter</th>\n",
       "      <th>Eol_p_reduit_noreg</th>\n",
       "      <th>Err_filter_noreg</th>\n",
       "    </tr>\n",
       "  </thead>\n",
       "  <tbody>\n",
       "    <tr>\n",
       "      <th>count</th>\n",
       "      <td>5360.000000</td>\n",
       "      <td>5360.000000</td>\n",
       "      <td>5360.000000</td>\n",
       "      <td>5360.000000</td>\n",
       "      <td>5360.000000</td>\n",
       "      <td>5360.000000</td>\n",
       "      <td>5360.000000</td>\n",
       "      <td>5360.000000</td>\n",
       "      <td>5360.000000</td>\n",
       "      <td>5360.000000</td>\n",
       "      <td>5360.000000</td>\n",
       "    </tr>\n",
       "    <tr>\n",
       "      <th>mean</th>\n",
       "      <td>4270.149689</td>\n",
       "      <td>17517.977612</td>\n",
       "      <td>0.245102</td>\n",
       "      <td>0.219094</td>\n",
       "      <td>0.167043</td>\n",
       "      <td>0.225329</td>\n",
       "      <td>0.162110</td>\n",
       "      <td>0.224965</td>\n",
       "      <td>0.163398</td>\n",
       "      <td>0.223294</td>\n",
       "      <td>0.168109</td>\n",
       "    </tr>\n",
       "    <tr>\n",
       "      <th>std</th>\n",
       "      <td>3155.214841</td>\n",
       "      <td>599.239016</td>\n",
       "      <td>0.182926</td>\n",
       "      <td>0.163859</td>\n",
       "      <td>0.149554</td>\n",
       "      <td>0.157409</td>\n",
       "      <td>0.143706</td>\n",
       "      <td>0.158937</td>\n",
       "      <td>0.146406</td>\n",
       "      <td>0.165437</td>\n",
       "      <td>0.149172</td>\n",
       "    </tr>\n",
       "    <tr>\n",
       "      <th>min</th>\n",
       "      <td>93.833333</td>\n",
       "      <td>16494.000000</td>\n",
       "      <td>0.005102</td>\n",
       "      <td>-0.035832</td>\n",
       "      <td>0.000047</td>\n",
       "      <td>-0.087166</td>\n",
       "      <td>0.000004</td>\n",
       "      <td>-0.039260</td>\n",
       "      <td>0.000056</td>\n",
       "      <td>-0.062571</td>\n",
       "      <td>0.000011</td>\n",
       "    </tr>\n",
       "    <tr>\n",
       "      <th>25%</th>\n",
       "      <td>1772.583333</td>\n",
       "      <td>16999.000000</td>\n",
       "      <td>0.100891</td>\n",
       "      <td>0.096310</td>\n",
       "      <td>0.051459</td>\n",
       "      <td>0.108250</td>\n",
       "      <td>0.053352</td>\n",
       "      <td>0.104866</td>\n",
       "      <td>0.050005</td>\n",
       "      <td>0.100058</td>\n",
       "      <td>0.053632</td>\n",
       "    </tr>\n",
       "    <tr>\n",
       "      <th>50%</th>\n",
       "      <td>3351.333333</td>\n",
       "      <td>17507.000000</td>\n",
       "      <td>0.191223</td>\n",
       "      <td>0.175980</td>\n",
       "      <td>0.121957</td>\n",
       "      <td>0.190612</td>\n",
       "      <td>0.119414</td>\n",
       "      <td>0.185445</td>\n",
       "      <td>0.119178</td>\n",
       "      <td>0.180865</td>\n",
       "      <td>0.122796</td>\n",
       "    </tr>\n",
       "    <tr>\n",
       "      <th>75%</th>\n",
       "      <td>6128.958333</td>\n",
       "      <td>18036.000000</td>\n",
       "      <td>0.351667</td>\n",
       "      <td>0.299505</td>\n",
       "      <td>0.238786</td>\n",
       "      <td>0.305642</td>\n",
       "      <td>0.232865</td>\n",
       "      <td>0.302314</td>\n",
       "      <td>0.233809</td>\n",
       "      <td>0.306660</td>\n",
       "      <td>0.244066</td>\n",
       "    </tr>\n",
       "    <tr>\n",
       "      <th>max</th>\n",
       "      <td>14456.166667</td>\n",
       "      <td>18570.000000</td>\n",
       "      <td>0.810869</td>\n",
       "      <td>0.848968</td>\n",
       "      <td>0.794229</td>\n",
       "      <td>0.887712</td>\n",
       "      <td>0.819360</td>\n",
       "      <td>0.823272</td>\n",
       "      <td>0.780694</td>\n",
       "      <td>0.822945</td>\n",
       "      <td>0.820663</td>\n",
       "    </tr>\n",
       "  </tbody>\n",
       "</table>\n",
       "</div>"
      ],
      "text/plain": [
       "             Eolien      Capa_eol      TCH_eol  Eol_p_sinus    Err_sinus  \\\n",
       "count   5360.000000   5360.000000  5360.000000  5360.000000  5360.000000   \n",
       "mean    4270.149689  17517.977612     0.245102     0.219094     0.167043   \n",
       "std     3155.214841    599.239016     0.182926     0.163859     0.149554   \n",
       "min       93.833333  16494.000000     0.005102    -0.035832     0.000047   \n",
       "25%     1772.583333  16999.000000     0.100891     0.096310     0.051459   \n",
       "50%     3351.333333  17507.000000     0.191223     0.175980     0.121957   \n",
       "75%     6128.958333  18036.000000     0.351667     0.299505     0.238786   \n",
       "max    14456.166667  18570.000000     0.810869     0.848968     0.794229   \n",
       "\n",
       "        Eol_p_exog     Err_exog  Eol_p_filter  Err_exog_filter  \\\n",
       "count  5360.000000  5360.000000   5360.000000      5360.000000   \n",
       "mean      0.225329     0.162110      0.224965         0.163398   \n",
       "std       0.157409     0.143706      0.158937         0.146406   \n",
       "min      -0.087166     0.000004     -0.039260         0.000056   \n",
       "25%       0.108250     0.053352      0.104866         0.050005   \n",
       "50%       0.190612     0.119414      0.185445         0.119178   \n",
       "75%       0.305642     0.232865      0.302314         0.233809   \n",
       "max       0.887712     0.819360      0.823272         0.780694   \n",
       "\n",
       "       Eol_p_reduit_noreg  Err_filter_noreg  \n",
       "count         5360.000000       5360.000000  \n",
       "mean             0.223294          0.168109  \n",
       "std              0.165437          0.149172  \n",
       "min             -0.062571          0.000011  \n",
       "25%              0.100058          0.053632  \n",
       "50%              0.180865          0.122796  \n",
       "75%              0.306660          0.244066  \n",
       "max              0.822945          0.820663  "
      ]
     },
     "execution_count": 58,
     "metadata": {},
     "output_type": "execute_result"
    }
   ],
   "source": [
    "bilan['Err_filter_noreg'] = np.abs(bilan['Eol_p_reduit_noreg'] - bilan['TCH_eol'])\n",
    "bilan.describe()"
   ]
  },
  {
   "cell_type": "markdown",
   "metadata": {},
   "source": [
    "# Target FILTREE avec Régresseurs exogènes : données métier FILTREES"
   ]
  },
  {
   "cell_type": "code",
   "execution_count": 59,
   "metadata": {},
   "outputs": [
    {
     "data": {
      "text/html": [
       "<div>\n",
       "<style scoped>\n",
       "    .dataframe tbody tr th:only-of-type {\n",
       "        vertical-align: middle;\n",
       "    }\n",
       "\n",
       "    .dataframe tbody tr th {\n",
       "        vertical-align: top;\n",
       "    }\n",
       "\n",
       "    .dataframe thead th {\n",
       "        text-align: right;\n",
       "    }\n",
       "</style>\n",
       "<table border=\"1\" class=\"dataframe\">\n",
       "  <thead>\n",
       "    <tr style=\"text-align: right;\">\n",
       "      <th></th>\n",
       "      <th>Dates</th>\n",
       "      <th>Vent</th>\n",
       "      <th>Humidite</th>\n",
       "      <th>Pluie_eol</th>\n",
       "      <th>Temperature_eol</th>\n",
       "      <th>Diff_pression</th>\n",
       "    </tr>\n",
       "  </thead>\n",
       "  <tbody>\n",
       "    <tr>\n",
       "      <th>0</th>\n",
       "      <td>2013-01-01 00:00:00</td>\n",
       "      <td>5.269459</td>\n",
       "      <td>92.900351</td>\n",
       "      <td>0.602728</td>\n",
       "      <td>10.172597</td>\n",
       "      <td>-1286.569161</td>\n",
       "    </tr>\n",
       "  </tbody>\n",
       "</table>\n",
       "</div>"
      ],
      "text/plain": [
       "                 Dates      Vent   Humidite  Pluie_eol  Temperature_eol  \\\n",
       "0  2013-01-01 00:00:00  5.269459  92.900351   0.602728        10.172597   \n",
       "\n",
       "   Diff_pression  \n",
       "0   -1286.569161  "
      ]
     },
     "execution_count": 59,
     "metadata": {},
     "output_type": "execute_result"
    }
   ],
   "source": [
    "exog = pd.read_csv('./exog/exog_3H_FR_filtered.csv',# sep = ';',\n",
    "                   usecols = ['Dates', 'Vent', 'Humidite', 'Pluie_eol', 'Temperature_eol', 'Diff_pression'])\n",
    "exog.head(1)"
   ]
  },
  {
   "cell_type": "code",
   "execution_count": 60,
   "metadata": {},
   "outputs": [],
   "source": [
    "exog['Dates'] = pd.to_datetime(exog['Dates'], yearfirst = True)\n",
    "exog.set_index('Dates', inplace = True)"
   ]
  },
  {
   "cell_type": "code",
   "execution_count": 61,
   "metadata": {},
   "outputs": [],
   "source": [
    "# Split en jeu d'entrainement et jeu de test\n",
    "exog_train = exog[(exog.index >= debut) & (exog.index < fin)]\n",
    "exog_test = exog[exog.index >= fin]"
   ]
  },
  {
   "cell_type": "markdown",
   "metadata": {},
   "source": [
    "### SARIMAX"
   ]
  },
  {
   "cell_type": "code",
   "execution_count": 62,
   "metadata": {},
   "outputs": [],
   "source": [
    "model_reduit = sm.tsa.SARIMAX(df_train_filter['TCH_eol'].values,\n",
    "                       exog = exog_train.values,\n",
    "                       # mle_regression = False, # Default = True\n",
    "                       # simple_differencing = True, #Default = False\n",
    "                       # state_regression = False,\n",
    "                       order = ordre,\n",
    "                       seasonal_order = saison)"
   ]
  },
  {
   "cell_type": "code",
   "execution_count": 63,
   "metadata": {},
   "outputs": [],
   "source": [
    "result_reduit = model_reduit.fit(low_memory=True)"
   ]
  },
  {
   "cell_type": "code",
   "execution_count": 64,
   "metadata": {},
   "outputs": [
    {
     "data": {
      "text/html": [
       "<table class=\"simpletable\">\n",
       "<caption>SARIMAX Results</caption>\n",
       "<tr>\n",
       "  <th>Dep. Variable:</th>                 <td>y</td>               <th>  No. Observations:  </th>    <td>20448</td>  \n",
       "</tr>\n",
       "<tr>\n",
       "  <th>Model:</th>           <td>SARIMAX(3, 0, 0)x(2, 0, 0, 8)</td> <th>  Log Likelihood     </th>  <td>46642.856</td>\n",
       "</tr>\n",
       "<tr>\n",
       "  <th>Date:</th>                  <td>Wed, 04 May 2022</td>        <th>  AIC                </th> <td>-93263.712</td>\n",
       "</tr>\n",
       "<tr>\n",
       "  <th>Time:</th>                      <td>10:33:46</td>            <th>  BIC                </th> <td>-93176.530</td>\n",
       "</tr>\n",
       "<tr>\n",
       "  <th>Sample:</th>                        <td>0</td>               <th>  HQIC               </th> <td>-93235.220</td>\n",
       "</tr>\n",
       "<tr>\n",
       "  <th></th>                           <td> - 20448</td>            <th>                     </th>      <td> </td>    \n",
       "</tr>\n",
       "<tr>\n",
       "  <th>Covariance Type:</th>            <td>approx</td>             <th>                     </th>      <td> </td>    \n",
       "</tr>\n",
       "</table>\n",
       "<table class=\"simpletable\">\n",
       "<tr>\n",
       "      <td></td>        <th>coef</th>     <th>std err</th>      <th>z</th>      <th>P>|z|</th>  <th>[0.025</th>    <th>0.975]</th>  \n",
       "</tr>\n",
       "<tr>\n",
       "  <th>x1</th>       <td>    0.0935</td> <td>    0.002</td> <td>   55.173</td> <td> 0.000</td> <td>    0.090</td> <td>    0.097</td>\n",
       "</tr>\n",
       "<tr>\n",
       "  <th>x2</th>       <td>    0.0061</td> <td>    0.000</td> <td>   36.113</td> <td> 0.000</td> <td>    0.006</td> <td>    0.006</td>\n",
       "</tr>\n",
       "<tr>\n",
       "  <th>x3</th>       <td>    0.0272</td> <td>    0.002</td> <td>   13.041</td> <td> 0.000</td> <td>    0.023</td> <td>    0.031</td>\n",
       "</tr>\n",
       "<tr>\n",
       "  <th>x4</th>       <td>   -0.0058</td> <td>    0.000</td> <td>  -17.363</td> <td> 0.000</td> <td>   -0.006</td> <td>   -0.005</td>\n",
       "</tr>\n",
       "<tr>\n",
       "  <th>x5</th>       <td>    0.0004</td> <td> 1.59e-05</td> <td>   25.833</td> <td> 0.000</td> <td>    0.000</td> <td>    0.000</td>\n",
       "</tr>\n",
       "<tr>\n",
       "  <th>ar.L1</th>    <td>    1.7209</td> <td>    0.016</td> <td>  105.182</td> <td> 0.000</td> <td>    1.689</td> <td>    1.753</td>\n",
       "</tr>\n",
       "<tr>\n",
       "  <th>ar.L2</th>    <td>   -1.1809</td> <td>    0.023</td> <td>  -51.583</td> <td> 0.000</td> <td>   -1.226</td> <td>   -1.136</td>\n",
       "</tr>\n",
       "<tr>\n",
       "  <th>ar.L3</th>    <td>    0.3372</td> <td>    0.010</td> <td>   34.986</td> <td> 0.000</td> <td>    0.318</td> <td>    0.356</td>\n",
       "</tr>\n",
       "<tr>\n",
       "  <th>ar.S.L8</th>  <td>    0.1661</td> <td>    0.017</td> <td>   10.058</td> <td> 0.000</td> <td>    0.134</td> <td>    0.198</td>\n",
       "</tr>\n",
       "<tr>\n",
       "  <th>ar.S.L16</th> <td>    0.1526</td> <td>    0.015</td> <td>   10.269</td> <td> 0.000</td> <td>    0.123</td> <td>    0.182</td>\n",
       "</tr>\n",
       "<tr>\n",
       "  <th>sigma2</th>   <td>    0.0006</td> <td> 1.85e-05</td> <td>   31.728</td> <td> 0.000</td> <td>    0.001</td> <td>    0.001</td>\n",
       "</tr>\n",
       "</table>\n",
       "<table class=\"simpletable\">\n",
       "<tr>\n",
       "  <th>Ljung-Box (L1) (Q):</th>     <td>2256.98</td> <th>  Jarque-Bera (JB):  </th> <td>392.50</td>\n",
       "</tr>\n",
       "<tr>\n",
       "  <th>Prob(Q):</th>                 <td>0.00</td>   <th>  Prob(JB):          </th>  <td>0.00</td> \n",
       "</tr>\n",
       "<tr>\n",
       "  <th>Heteroskedasticity (H):</th>  <td>0.90</td>   <th>  Skew:              </th>  <td>0.26</td> \n",
       "</tr>\n",
       "<tr>\n",
       "  <th>Prob(H) (two-sided):</th>     <td>0.00</td>   <th>  Kurtosis:          </th>  <td>3.44</td> \n",
       "</tr>\n",
       "</table><br/><br/>Warnings:<br/>[1] Covariance matrix calculated using numerical (complex-step) differentiation."
      ],
      "text/plain": [
       "<class 'statsmodels.iolib.summary.Summary'>\n",
       "\"\"\"\n",
       "                                     SARIMAX Results                                     \n",
       "=========================================================================================\n",
       "Dep. Variable:                                 y   No. Observations:                20448\n",
       "Model:             SARIMAX(3, 0, 0)x(2, 0, 0, 8)   Log Likelihood               46642.856\n",
       "Date:                           Wed, 04 May 2022   AIC                         -93263.712\n",
       "Time:                                   10:33:46   BIC                         -93176.530\n",
       "Sample:                                        0   HQIC                        -93235.220\n",
       "                                         - 20448                                         \n",
       "Covariance Type:                          approx                                         \n",
       "==============================================================================\n",
       "                 coef    std err          z      P>|z|      [0.025      0.975]\n",
       "------------------------------------------------------------------------------\n",
       "x1             0.0935      0.002     55.173      0.000       0.090       0.097\n",
       "x2             0.0061      0.000     36.113      0.000       0.006       0.006\n",
       "x3             0.0272      0.002     13.041      0.000       0.023       0.031\n",
       "x4            -0.0058      0.000    -17.363      0.000      -0.006      -0.005\n",
       "x5             0.0004   1.59e-05     25.833      0.000       0.000       0.000\n",
       "ar.L1          1.7209      0.016    105.182      0.000       1.689       1.753\n",
       "ar.L2         -1.1809      0.023    -51.583      0.000      -1.226      -1.136\n",
       "ar.L3          0.3372      0.010     34.986      0.000       0.318       0.356\n",
       "ar.S.L8        0.1661      0.017     10.058      0.000       0.134       0.198\n",
       "ar.S.L16       0.1526      0.015     10.269      0.000       0.123       0.182\n",
       "sigma2         0.0006   1.85e-05     31.728      0.000       0.001       0.001\n",
       "===================================================================================\n",
       "Ljung-Box (L1) (Q):                2256.98   Jarque-Bera (JB):               392.50\n",
       "Prob(Q):                              0.00   Prob(JB):                         0.00\n",
       "Heteroskedasticity (H):               0.90   Skew:                             0.26\n",
       "Prob(H) (two-sided):                  0.00   Kurtosis:                         3.44\n",
       "===================================================================================\n",
       "\n",
       "Warnings:\n",
       "[1] Covariance matrix calculated using numerical (complex-step) differentiation.\n",
       "\"\"\""
      ]
     },
     "execution_count": 64,
     "metadata": {},
     "output_type": "execute_result"
    }
   ],
   "source": [
    "result_reduit.summary()"
   ]
  },
  {
   "cell_type": "code",
   "execution_count": 65,
   "metadata": {},
   "outputs": [],
   "source": [
    "predict_reduit = result_reduit.predict(start = 1 ,\n",
    "                               end = fenetre,\n",
    "                               exog = exog_test.values)"
   ]
  },
  {
   "cell_type": "code",
   "execution_count": 66,
   "metadata": {},
   "outputs": [],
   "source": [
    "predict_reduit = pd.DataFrame(predict_reduit, index = indice, columns = ['Eol_p_reduit'])"
   ]
  },
  {
   "cell_type": "code",
   "execution_count": 67,
   "metadata": {
    "scrolled": true
   },
   "outputs": [],
   "source": [
    "bilan = pd.concat([bilan, predict_reduit], axis = 1)"
   ]
  },
  {
   "cell_type": "markdown",
   "metadata": {},
   "source": [
    "### Erreur absolue"
   ]
  },
  {
   "cell_type": "code",
   "execution_count": 68,
   "metadata": {},
   "outputs": [
    {
     "data": {
      "text/html": [
       "<div>\n",
       "<style scoped>\n",
       "    .dataframe tbody tr th:only-of-type {\n",
       "        vertical-align: middle;\n",
       "    }\n",
       "\n",
       "    .dataframe tbody tr th {\n",
       "        vertical-align: top;\n",
       "    }\n",
       "\n",
       "    .dataframe thead th {\n",
       "        text-align: right;\n",
       "    }\n",
       "</style>\n",
       "<table border=\"1\" class=\"dataframe\">\n",
       "  <thead>\n",
       "    <tr style=\"text-align: right;\">\n",
       "      <th></th>\n",
       "      <th>Eolien</th>\n",
       "      <th>Capa_eol</th>\n",
       "      <th>TCH_eol</th>\n",
       "      <th>Eol_p_sinus</th>\n",
       "      <th>Err_sinus</th>\n",
       "      <th>Eol_p_exog</th>\n",
       "      <th>Err_exog</th>\n",
       "      <th>Eol_p_filter</th>\n",
       "      <th>Err_exog_filter</th>\n",
       "      <th>Eol_p_reduit_noreg</th>\n",
       "      <th>Err_filter_noreg</th>\n",
       "      <th>Eol_p_reduit</th>\n",
       "      <th>Err_filter_exog_filter</th>\n",
       "    </tr>\n",
       "  </thead>\n",
       "  <tbody>\n",
       "    <tr>\n",
       "      <th>count</th>\n",
       "      <td>5360.000000</td>\n",
       "      <td>5360.000000</td>\n",
       "      <td>5360.000000</td>\n",
       "      <td>5360.000000</td>\n",
       "      <td>5360.000000</td>\n",
       "      <td>5360.000000</td>\n",
       "      <td>5360.000000</td>\n",
       "      <td>5360.000000</td>\n",
       "      <td>5360.000000</td>\n",
       "      <td>5360.000000</td>\n",
       "      <td>5360.000000</td>\n",
       "      <td>5360.000000</td>\n",
       "      <td>5360.000000</td>\n",
       "    </tr>\n",
       "    <tr>\n",
       "      <th>mean</th>\n",
       "      <td>4270.149689</td>\n",
       "      <td>17517.977612</td>\n",
       "      <td>0.245102</td>\n",
       "      <td>0.219094</td>\n",
       "      <td>0.167043</td>\n",
       "      <td>0.225329</td>\n",
       "      <td>0.162110</td>\n",
       "      <td>0.224965</td>\n",
       "      <td>0.163398</td>\n",
       "      <td>0.223294</td>\n",
       "      <td>0.168109</td>\n",
       "      <td>0.224962</td>\n",
       "      <td>0.164394</td>\n",
       "    </tr>\n",
       "    <tr>\n",
       "      <th>std</th>\n",
       "      <td>3155.214841</td>\n",
       "      <td>599.239016</td>\n",
       "      <td>0.182926</td>\n",
       "      <td>0.163859</td>\n",
       "      <td>0.149554</td>\n",
       "      <td>0.157409</td>\n",
       "      <td>0.143706</td>\n",
       "      <td>0.158937</td>\n",
       "      <td>0.146406</td>\n",
       "      <td>0.165437</td>\n",
       "      <td>0.149172</td>\n",
       "      <td>0.161084</td>\n",
       "      <td>0.146272</td>\n",
       "    </tr>\n",
       "    <tr>\n",
       "      <th>min</th>\n",
       "      <td>93.833333</td>\n",
       "      <td>16494.000000</td>\n",
       "      <td>0.005102</td>\n",
       "      <td>-0.035832</td>\n",
       "      <td>0.000047</td>\n",
       "      <td>-0.087166</td>\n",
       "      <td>0.000004</td>\n",
       "      <td>-0.039260</td>\n",
       "      <td>0.000056</td>\n",
       "      <td>-0.062571</td>\n",
       "      <td>0.000011</td>\n",
       "      <td>-0.049922</td>\n",
       "      <td>0.000029</td>\n",
       "    </tr>\n",
       "    <tr>\n",
       "      <th>25%</th>\n",
       "      <td>1772.583333</td>\n",
       "      <td>16999.000000</td>\n",
       "      <td>0.100891</td>\n",
       "      <td>0.096310</td>\n",
       "      <td>0.051459</td>\n",
       "      <td>0.108250</td>\n",
       "      <td>0.053352</td>\n",
       "      <td>0.104866</td>\n",
       "      <td>0.050005</td>\n",
       "      <td>0.100058</td>\n",
       "      <td>0.053632</td>\n",
       "      <td>0.105956</td>\n",
       "      <td>0.053095</td>\n",
       "    </tr>\n",
       "    <tr>\n",
       "      <th>50%</th>\n",
       "      <td>3351.333333</td>\n",
       "      <td>17507.000000</td>\n",
       "      <td>0.191223</td>\n",
       "      <td>0.175980</td>\n",
       "      <td>0.121957</td>\n",
       "      <td>0.190612</td>\n",
       "      <td>0.119414</td>\n",
       "      <td>0.185445</td>\n",
       "      <td>0.119178</td>\n",
       "      <td>0.180865</td>\n",
       "      <td>0.122796</td>\n",
       "      <td>0.185224</td>\n",
       "      <td>0.119223</td>\n",
       "    </tr>\n",
       "    <tr>\n",
       "      <th>75%</th>\n",
       "      <td>6128.958333</td>\n",
       "      <td>18036.000000</td>\n",
       "      <td>0.351667</td>\n",
       "      <td>0.299505</td>\n",
       "      <td>0.238786</td>\n",
       "      <td>0.305642</td>\n",
       "      <td>0.232865</td>\n",
       "      <td>0.302314</td>\n",
       "      <td>0.233809</td>\n",
       "      <td>0.306660</td>\n",
       "      <td>0.244066</td>\n",
       "      <td>0.306273</td>\n",
       "      <td>0.235712</td>\n",
       "    </tr>\n",
       "    <tr>\n",
       "      <th>max</th>\n",
       "      <td>14456.166667</td>\n",
       "      <td>18570.000000</td>\n",
       "      <td>0.810869</td>\n",
       "      <td>0.848968</td>\n",
       "      <td>0.794229</td>\n",
       "      <td>0.887712</td>\n",
       "      <td>0.819360</td>\n",
       "      <td>0.823272</td>\n",
       "      <td>0.780694</td>\n",
       "      <td>0.822945</td>\n",
       "      <td>0.820663</td>\n",
       "      <td>0.808916</td>\n",
       "      <td>0.778478</td>\n",
       "    </tr>\n",
       "  </tbody>\n",
       "</table>\n",
       "</div>"
      ],
      "text/plain": [
       "             Eolien      Capa_eol      TCH_eol  Eol_p_sinus    Err_sinus  \\\n",
       "count   5360.000000   5360.000000  5360.000000  5360.000000  5360.000000   \n",
       "mean    4270.149689  17517.977612     0.245102     0.219094     0.167043   \n",
       "std     3155.214841    599.239016     0.182926     0.163859     0.149554   \n",
       "min       93.833333  16494.000000     0.005102    -0.035832     0.000047   \n",
       "25%     1772.583333  16999.000000     0.100891     0.096310     0.051459   \n",
       "50%     3351.333333  17507.000000     0.191223     0.175980     0.121957   \n",
       "75%     6128.958333  18036.000000     0.351667     0.299505     0.238786   \n",
       "max    14456.166667  18570.000000     0.810869     0.848968     0.794229   \n",
       "\n",
       "        Eol_p_exog     Err_exog  Eol_p_filter  Err_exog_filter  \\\n",
       "count  5360.000000  5360.000000   5360.000000      5360.000000   \n",
       "mean      0.225329     0.162110      0.224965         0.163398   \n",
       "std       0.157409     0.143706      0.158937         0.146406   \n",
       "min      -0.087166     0.000004     -0.039260         0.000056   \n",
       "25%       0.108250     0.053352      0.104866         0.050005   \n",
       "50%       0.190612     0.119414      0.185445         0.119178   \n",
       "75%       0.305642     0.232865      0.302314         0.233809   \n",
       "max       0.887712     0.819360      0.823272         0.780694   \n",
       "\n",
       "       Eol_p_reduit_noreg  Err_filter_noreg  Eol_p_reduit  \\\n",
       "count         5360.000000       5360.000000   5360.000000   \n",
       "mean             0.223294          0.168109      0.224962   \n",
       "std              0.165437          0.149172      0.161084   \n",
       "min             -0.062571          0.000011     -0.049922   \n",
       "25%              0.100058          0.053632      0.105956   \n",
       "50%              0.180865          0.122796      0.185224   \n",
       "75%              0.306660          0.244066      0.306273   \n",
       "max              0.822945          0.820663      0.808916   \n",
       "\n",
       "       Err_filter_exog_filter  \n",
       "count             5360.000000  \n",
       "mean                 0.164394  \n",
       "std                  0.146272  \n",
       "min                  0.000029  \n",
       "25%                  0.053095  \n",
       "50%                  0.119223  \n",
       "75%                  0.235712  \n",
       "max                  0.778478  "
      ]
     },
     "execution_count": 68,
     "metadata": {},
     "output_type": "execute_result"
    }
   ],
   "source": [
    "bilan['Err_filter_exog_filter'] = np.abs(bilan['Eol_p_reduit'] - bilan['TCH_eol'])\n",
    "bilan.describe()"
   ]
  },
  {
   "cell_type": "markdown",
   "metadata": {},
   "source": [
    "# Régression linéaire avec Régresseurs exogènes : données métier FILTREES "
   ]
  },
  {
   "cell_type": "code",
   "execution_count": 69,
   "metadata": {},
   "outputs": [
    {
     "data": {
      "text/html": [
       "<div>\n",
       "<style scoped>\n",
       "    .dataframe tbody tr th:only-of-type {\n",
       "        vertical-align: middle;\n",
       "    }\n",
       "\n",
       "    .dataframe tbody tr th {\n",
       "        vertical-align: top;\n",
       "    }\n",
       "\n",
       "    .dataframe thead th {\n",
       "        text-align: right;\n",
       "    }\n",
       "</style>\n",
       "<table border=\"1\" class=\"dataframe\">\n",
       "  <thead>\n",
       "    <tr style=\"text-align: right;\">\n",
       "      <th></th>\n",
       "      <th>Dates</th>\n",
       "      <th>Vent</th>\n",
       "      <th>Humidite</th>\n",
       "      <th>Pluie_eol</th>\n",
       "      <th>Temperature_eol</th>\n",
       "      <th>Diff_pression</th>\n",
       "    </tr>\n",
       "  </thead>\n",
       "  <tbody>\n",
       "    <tr>\n",
       "      <th>0</th>\n",
       "      <td>2013-01-01 00:00:00</td>\n",
       "      <td>5.269459</td>\n",
       "      <td>92.900351</td>\n",
       "      <td>0.602728</td>\n",
       "      <td>10.172597</td>\n",
       "      <td>-1286.569161</td>\n",
       "    </tr>\n",
       "  </tbody>\n",
       "</table>\n",
       "</div>"
      ],
      "text/plain": [
       "                 Dates      Vent   Humidite  Pluie_eol  Temperature_eol  \\\n",
       "0  2013-01-01 00:00:00  5.269459  92.900351   0.602728        10.172597   \n",
       "\n",
       "   Diff_pression  \n",
       "0   -1286.569161  "
      ]
     },
     "execution_count": 69,
     "metadata": {},
     "output_type": "execute_result"
    }
   ],
   "source": [
    "exog = pd.read_csv('./exog/exog_3H_FR_filtered.csv',# sep = ';',\n",
    "                   usecols = ['Dates', 'Vent', 'Humidite', 'Pluie_eol', 'Temperature_eol', 'Diff_pression'])\n",
    "exog.head(1)"
   ]
  },
  {
   "cell_type": "code",
   "execution_count": 70,
   "metadata": {},
   "outputs": [],
   "source": [
    "exog['Dates'] = pd.to_datetime(exog['Dates'], yearfirst = True)\n",
    "exog.set_index('Dates', inplace = True)"
   ]
  },
  {
   "cell_type": "code",
   "execution_count": 71,
   "metadata": {},
   "outputs": [],
   "source": [
    "# Split en jeu d'entrainement et jeu de test\n",
    "exog_train = exog[(exog.index >= debut) & (exog.index < fin)]\n",
    "exog_test = exog[exog.index >= fin]"
   ]
  },
  {
   "cell_type": "code",
   "execution_count": 72,
   "metadata": {},
   "outputs": [],
   "source": [
    "LinReg = LinearRegression()\n",
    "LinReg.fit(exog_train, df_train['TCH_eol'])\n",
    "predict_lr = LinReg.predict(exog_test)"
   ]
  },
  {
   "cell_type": "code",
   "execution_count": 73,
   "metadata": {},
   "outputs": [],
   "source": [
    "predict_lr = pd.DataFrame(predict_lr, index = indice, columns = ['Eol_p_LinReg'])"
   ]
  },
  {
   "cell_type": "code",
   "execution_count": 74,
   "metadata": {},
   "outputs": [],
   "source": [
    "bilan = pd.concat([bilan, predict_lr], axis = 1)"
   ]
  },
  {
   "cell_type": "markdown",
   "metadata": {},
   "source": [
    "### Erreur absolue"
   ]
  },
  {
   "cell_type": "code",
   "execution_count": 75,
   "metadata": {},
   "outputs": [
    {
     "data": {
      "text/html": [
       "<div>\n",
       "<style scoped>\n",
       "    .dataframe tbody tr th:only-of-type {\n",
       "        vertical-align: middle;\n",
       "    }\n",
       "\n",
       "    .dataframe tbody tr th {\n",
       "        vertical-align: top;\n",
       "    }\n",
       "\n",
       "    .dataframe thead th {\n",
       "        text-align: right;\n",
       "    }\n",
       "</style>\n",
       "<table border=\"1\" class=\"dataframe\">\n",
       "  <thead>\n",
       "    <tr style=\"text-align: right;\">\n",
       "      <th></th>\n",
       "      <th>Eolien</th>\n",
       "      <th>Capa_eol</th>\n",
       "      <th>TCH_eol</th>\n",
       "      <th>Eol_p_sinus</th>\n",
       "      <th>Err_sinus</th>\n",
       "      <th>Eol_p_exog</th>\n",
       "      <th>Err_exog</th>\n",
       "      <th>Eol_p_filter</th>\n",
       "      <th>Err_exog_filter</th>\n",
       "      <th>Eol_p_reduit_noreg</th>\n",
       "      <th>Err_filter_noreg</th>\n",
       "      <th>Eol_p_reduit</th>\n",
       "      <th>Err_filter_exog_filter</th>\n",
       "      <th>Eol_p_LinReg</th>\n",
       "      <th>Err_LinReg</th>\n",
       "    </tr>\n",
       "  </thead>\n",
       "  <tbody>\n",
       "    <tr>\n",
       "      <th>count</th>\n",
       "      <td>5360.000000</td>\n",
       "      <td>5360.000000</td>\n",
       "      <td>5360.000000</td>\n",
       "      <td>5360.000000</td>\n",
       "      <td>5360.000000</td>\n",
       "      <td>5360.000000</td>\n",
       "      <td>5360.000000</td>\n",
       "      <td>5360.000000</td>\n",
       "      <td>5360.000000</td>\n",
       "      <td>5360.000000</td>\n",
       "      <td>5360.000000</td>\n",
       "      <td>5360.000000</td>\n",
       "      <td>5360.000000</td>\n",
       "      <td>5360.000000</td>\n",
       "      <td>5360.000000</td>\n",
       "    </tr>\n",
       "    <tr>\n",
       "      <th>mean</th>\n",
       "      <td>4270.149689</td>\n",
       "      <td>17517.977612</td>\n",
       "      <td>0.245102</td>\n",
       "      <td>0.219094</td>\n",
       "      <td>0.167043</td>\n",
       "      <td>0.225329</td>\n",
       "      <td>0.162110</td>\n",
       "      <td>0.224965</td>\n",
       "      <td>0.163398</td>\n",
       "      <td>0.223294</td>\n",
       "      <td>0.168109</td>\n",
       "      <td>0.224962</td>\n",
       "      <td>0.164394</td>\n",
       "      <td>0.235601</td>\n",
       "      <td>0.087550</td>\n",
       "    </tr>\n",
       "    <tr>\n",
       "      <th>std</th>\n",
       "      <td>3155.214841</td>\n",
       "      <td>599.239016</td>\n",
       "      <td>0.182926</td>\n",
       "      <td>0.163859</td>\n",
       "      <td>0.149554</td>\n",
       "      <td>0.157409</td>\n",
       "      <td>0.143706</td>\n",
       "      <td>0.158937</td>\n",
       "      <td>0.146406</td>\n",
       "      <td>0.165437</td>\n",
       "      <td>0.149172</td>\n",
       "      <td>0.161084</td>\n",
       "      <td>0.146272</td>\n",
       "      <td>0.146345</td>\n",
       "      <td>0.066781</td>\n",
       "    </tr>\n",
       "    <tr>\n",
       "      <th>min</th>\n",
       "      <td>93.833333</td>\n",
       "      <td>16494.000000</td>\n",
       "      <td>0.005102</td>\n",
       "      <td>-0.035832</td>\n",
       "      <td>0.000047</td>\n",
       "      <td>-0.087166</td>\n",
       "      <td>0.000004</td>\n",
       "      <td>-0.039260</td>\n",
       "      <td>0.000056</td>\n",
       "      <td>-0.062571</td>\n",
       "      <td>0.000011</td>\n",
       "      <td>-0.049922</td>\n",
       "      <td>0.000029</td>\n",
       "      <td>-0.110215</td>\n",
       "      <td>0.000032</td>\n",
       "    </tr>\n",
       "    <tr>\n",
       "      <th>25%</th>\n",
       "      <td>1772.583333</td>\n",
       "      <td>16999.000000</td>\n",
       "      <td>0.100891</td>\n",
       "      <td>0.096310</td>\n",
       "      <td>0.051459</td>\n",
       "      <td>0.108250</td>\n",
       "      <td>0.053352</td>\n",
       "      <td>0.104866</td>\n",
       "      <td>0.050005</td>\n",
       "      <td>0.100058</td>\n",
       "      <td>0.053632</td>\n",
       "      <td>0.105956</td>\n",
       "      <td>0.053095</td>\n",
       "      <td>0.133553</td>\n",
       "      <td>0.035268</td>\n",
       "    </tr>\n",
       "    <tr>\n",
       "      <th>50%</th>\n",
       "      <td>3351.333333</td>\n",
       "      <td>17507.000000</td>\n",
       "      <td>0.191223</td>\n",
       "      <td>0.175980</td>\n",
       "      <td>0.121957</td>\n",
       "      <td>0.190612</td>\n",
       "      <td>0.119414</td>\n",
       "      <td>0.185445</td>\n",
       "      <td>0.119178</td>\n",
       "      <td>0.180865</td>\n",
       "      <td>0.122796</td>\n",
       "      <td>0.185224</td>\n",
       "      <td>0.119223</td>\n",
       "      <td>0.214746</td>\n",
       "      <td>0.073178</td>\n",
       "    </tr>\n",
       "    <tr>\n",
       "      <th>75%</th>\n",
       "      <td>6128.958333</td>\n",
       "      <td>18036.000000</td>\n",
       "      <td>0.351667</td>\n",
       "      <td>0.299505</td>\n",
       "      <td>0.238786</td>\n",
       "      <td>0.305642</td>\n",
       "      <td>0.232865</td>\n",
       "      <td>0.302314</td>\n",
       "      <td>0.233809</td>\n",
       "      <td>0.306660</td>\n",
       "      <td>0.244066</td>\n",
       "      <td>0.306273</td>\n",
       "      <td>0.235712</td>\n",
       "      <td>0.322579</td>\n",
       "      <td>0.125407</td>\n",
       "    </tr>\n",
       "    <tr>\n",
       "      <th>max</th>\n",
       "      <td>14456.166667</td>\n",
       "      <td>18570.000000</td>\n",
       "      <td>0.810869</td>\n",
       "      <td>0.848968</td>\n",
       "      <td>0.794229</td>\n",
       "      <td>0.887712</td>\n",
       "      <td>0.819360</td>\n",
       "      <td>0.823272</td>\n",
       "      <td>0.780694</td>\n",
       "      <td>0.822945</td>\n",
       "      <td>0.820663</td>\n",
       "      <td>0.808916</td>\n",
       "      <td>0.778478</td>\n",
       "      <td>0.955848</td>\n",
       "      <td>0.383211</td>\n",
       "    </tr>\n",
       "  </tbody>\n",
       "</table>\n",
       "</div>"
      ],
      "text/plain": [
       "             Eolien      Capa_eol      TCH_eol  Eol_p_sinus    Err_sinus  \\\n",
       "count   5360.000000   5360.000000  5360.000000  5360.000000  5360.000000   \n",
       "mean    4270.149689  17517.977612     0.245102     0.219094     0.167043   \n",
       "std     3155.214841    599.239016     0.182926     0.163859     0.149554   \n",
       "min       93.833333  16494.000000     0.005102    -0.035832     0.000047   \n",
       "25%     1772.583333  16999.000000     0.100891     0.096310     0.051459   \n",
       "50%     3351.333333  17507.000000     0.191223     0.175980     0.121957   \n",
       "75%     6128.958333  18036.000000     0.351667     0.299505     0.238786   \n",
       "max    14456.166667  18570.000000     0.810869     0.848968     0.794229   \n",
       "\n",
       "        Eol_p_exog     Err_exog  Eol_p_filter  Err_exog_filter  \\\n",
       "count  5360.000000  5360.000000   5360.000000      5360.000000   \n",
       "mean      0.225329     0.162110      0.224965         0.163398   \n",
       "std       0.157409     0.143706      0.158937         0.146406   \n",
       "min      -0.087166     0.000004     -0.039260         0.000056   \n",
       "25%       0.108250     0.053352      0.104866         0.050005   \n",
       "50%       0.190612     0.119414      0.185445         0.119178   \n",
       "75%       0.305642     0.232865      0.302314         0.233809   \n",
       "max       0.887712     0.819360      0.823272         0.780694   \n",
       "\n",
       "       Eol_p_reduit_noreg  Err_filter_noreg  Eol_p_reduit  \\\n",
       "count         5360.000000       5360.000000   5360.000000   \n",
       "mean             0.223294          0.168109      0.224962   \n",
       "std              0.165437          0.149172      0.161084   \n",
       "min             -0.062571          0.000011     -0.049922   \n",
       "25%              0.100058          0.053632      0.105956   \n",
       "50%              0.180865          0.122796      0.185224   \n",
       "75%              0.306660          0.244066      0.306273   \n",
       "max              0.822945          0.820663      0.808916   \n",
       "\n",
       "       Err_filter_exog_filter  Eol_p_LinReg   Err_LinReg  \n",
       "count             5360.000000   5360.000000  5360.000000  \n",
       "mean                 0.164394      0.235601     0.087550  \n",
       "std                  0.146272      0.146345     0.066781  \n",
       "min                  0.000029     -0.110215     0.000032  \n",
       "25%                  0.053095      0.133553     0.035268  \n",
       "50%                  0.119223      0.214746     0.073178  \n",
       "75%                  0.235712      0.322579     0.125407  \n",
       "max                  0.778478      0.955848     0.383211  "
      ]
     },
     "execution_count": 75,
     "metadata": {},
     "output_type": "execute_result"
    }
   ],
   "source": [
    "bilan['Err_LinReg'] = np.abs(bilan['Eol_p_LinReg'] - bilan['TCH_eol'])\n",
    "bilan.describe()"
   ]
  },
  {
   "cell_type": "markdown",
   "metadata": {},
   "source": [
    "# Régression linéaire sur target FILTREE avec Régresseurs exogènes : données métier FILTREES "
   ]
  },
  {
   "cell_type": "code",
   "execution_count": 76,
   "metadata": {},
   "outputs": [
    {
     "data": {
      "text/html": [
       "<div>\n",
       "<style scoped>\n",
       "    .dataframe tbody tr th:only-of-type {\n",
       "        vertical-align: middle;\n",
       "    }\n",
       "\n",
       "    .dataframe tbody tr th {\n",
       "        vertical-align: top;\n",
       "    }\n",
       "\n",
       "    .dataframe thead th {\n",
       "        text-align: right;\n",
       "    }\n",
       "</style>\n",
       "<table border=\"1\" class=\"dataframe\">\n",
       "  <thead>\n",
       "    <tr style=\"text-align: right;\">\n",
       "      <th></th>\n",
       "      <th>Dates</th>\n",
       "      <th>Vent</th>\n",
       "      <th>Humidite</th>\n",
       "      <th>Pluie_eol</th>\n",
       "      <th>Temperature_eol</th>\n",
       "      <th>Diff_pression</th>\n",
       "    </tr>\n",
       "  </thead>\n",
       "  <tbody>\n",
       "    <tr>\n",
       "      <th>0</th>\n",
       "      <td>2013-01-01 00:00:00</td>\n",
       "      <td>5.269459</td>\n",
       "      <td>92.900351</td>\n",
       "      <td>0.602728</td>\n",
       "      <td>10.172597</td>\n",
       "      <td>-1286.569161</td>\n",
       "    </tr>\n",
       "  </tbody>\n",
       "</table>\n",
       "</div>"
      ],
      "text/plain": [
       "                 Dates      Vent   Humidite  Pluie_eol  Temperature_eol  \\\n",
       "0  2013-01-01 00:00:00  5.269459  92.900351   0.602728        10.172597   \n",
       "\n",
       "   Diff_pression  \n",
       "0   -1286.569161  "
      ]
     },
     "execution_count": 76,
     "metadata": {},
     "output_type": "execute_result"
    }
   ],
   "source": [
    "exog = pd.read_csv('./exog/exog_3H_FR_filtered.csv',# sep = ';',\n",
    "                   usecols = ['Dates', 'Vent', 'Humidite', 'Pluie_eol', 'Temperature_eol', 'Diff_pression'])\n",
    "exog.head(1)"
   ]
  },
  {
   "cell_type": "code",
   "execution_count": 77,
   "metadata": {},
   "outputs": [],
   "source": [
    "exog['Dates'] = pd.to_datetime(exog['Dates'], yearfirst = True)\n",
    "exog.set_index('Dates', inplace = True)"
   ]
  },
  {
   "cell_type": "code",
   "execution_count": 78,
   "metadata": {},
   "outputs": [],
   "source": [
    "# Split en jeu d'entrainement et jeu de test\n",
    "exog_train = exog[(exog.index >= debut) & (exog.index < fin)]\n",
    "exog_test = exog[exog.index >= fin]"
   ]
  },
  {
   "cell_type": "code",
   "execution_count": 79,
   "metadata": {},
   "outputs": [],
   "source": [
    "LinReg_filter = LinearRegression()\n",
    "LinReg_filter.fit(exog_train, df_train_filter['TCH_eol'])\n",
    "predict_lr_filter = LinReg_filter.predict(exog_test)"
   ]
  },
  {
   "cell_type": "code",
   "execution_count": 80,
   "metadata": {},
   "outputs": [],
   "source": [
    "predict_lr_filter = pd.DataFrame(predict_lr_filter, index = indice, columns = ['Eol_p_LinReg_filter'])"
   ]
  },
  {
   "cell_type": "code",
   "execution_count": 81,
   "metadata": {},
   "outputs": [],
   "source": [
    "bilan = pd.concat([bilan, predict_lr_filter], axis = 1)"
   ]
  },
  {
   "cell_type": "markdown",
   "metadata": {},
   "source": [
    "### Erreur absolue"
   ]
  },
  {
   "cell_type": "code",
   "execution_count": 82,
   "metadata": {},
   "outputs": [
    {
     "data": {
      "text/html": [
       "<div>\n",
       "<style scoped>\n",
       "    .dataframe tbody tr th:only-of-type {\n",
       "        vertical-align: middle;\n",
       "    }\n",
       "\n",
       "    .dataframe tbody tr th {\n",
       "        vertical-align: top;\n",
       "    }\n",
       "\n",
       "    .dataframe thead th {\n",
       "        text-align: right;\n",
       "    }\n",
       "</style>\n",
       "<table border=\"1\" class=\"dataframe\">\n",
       "  <thead>\n",
       "    <tr style=\"text-align: right;\">\n",
       "      <th></th>\n",
       "      <th>Eolien</th>\n",
       "      <th>Capa_eol</th>\n",
       "      <th>TCH_eol</th>\n",
       "      <th>Eol_p_sinus</th>\n",
       "      <th>Err_sinus</th>\n",
       "      <th>Eol_p_exog</th>\n",
       "      <th>Err_exog</th>\n",
       "      <th>Eol_p_filter</th>\n",
       "      <th>Err_exog_filter</th>\n",
       "      <th>Eol_p_reduit_noreg</th>\n",
       "      <th>Err_filter_noreg</th>\n",
       "      <th>Eol_p_reduit</th>\n",
       "      <th>Err_filter_exog_filter</th>\n",
       "      <th>Eol_p_LinReg</th>\n",
       "      <th>Err_LinReg</th>\n",
       "      <th>Eol_p_LinReg_filter</th>\n",
       "      <th>Err_LinReg_filter</th>\n",
       "    </tr>\n",
       "  </thead>\n",
       "  <tbody>\n",
       "    <tr>\n",
       "      <th>count</th>\n",
       "      <td>5360.000000</td>\n",
       "      <td>5360.000000</td>\n",
       "      <td>5360.000000</td>\n",
       "      <td>5360.000000</td>\n",
       "      <td>5360.000000</td>\n",
       "      <td>5360.000000</td>\n",
       "      <td>5360.000000</td>\n",
       "      <td>5360.000000</td>\n",
       "      <td>5360.000000</td>\n",
       "      <td>5360.000000</td>\n",
       "      <td>5360.000000</td>\n",
       "      <td>5360.000000</td>\n",
       "      <td>5360.000000</td>\n",
       "      <td>5360.000000</td>\n",
       "      <td>5360.000000</td>\n",
       "      <td>5360.000000</td>\n",
       "      <td>5360.000000</td>\n",
       "    </tr>\n",
       "    <tr>\n",
       "      <th>mean</th>\n",
       "      <td>4270.149689</td>\n",
       "      <td>17517.977612</td>\n",
       "      <td>0.245102</td>\n",
       "      <td>0.219094</td>\n",
       "      <td>0.167043</td>\n",
       "      <td>0.225329</td>\n",
       "      <td>0.162110</td>\n",
       "      <td>0.224965</td>\n",
       "      <td>0.163398</td>\n",
       "      <td>0.223294</td>\n",
       "      <td>0.168109</td>\n",
       "      <td>0.224962</td>\n",
       "      <td>0.164394</td>\n",
       "      <td>0.235601</td>\n",
       "      <td>0.087550</td>\n",
       "      <td>0.235608</td>\n",
       "      <td>0.087546</td>\n",
       "    </tr>\n",
       "    <tr>\n",
       "      <th>std</th>\n",
       "      <td>3155.214841</td>\n",
       "      <td>599.239016</td>\n",
       "      <td>0.182926</td>\n",
       "      <td>0.163859</td>\n",
       "      <td>0.149554</td>\n",
       "      <td>0.157409</td>\n",
       "      <td>0.143706</td>\n",
       "      <td>0.158937</td>\n",
       "      <td>0.146406</td>\n",
       "      <td>0.165437</td>\n",
       "      <td>0.149172</td>\n",
       "      <td>0.161084</td>\n",
       "      <td>0.146272</td>\n",
       "      <td>0.146345</td>\n",
       "      <td>0.066781</td>\n",
       "      <td>0.146362</td>\n",
       "      <td>0.066780</td>\n",
       "    </tr>\n",
       "    <tr>\n",
       "      <th>min</th>\n",
       "      <td>93.833333</td>\n",
       "      <td>16494.000000</td>\n",
       "      <td>0.005102</td>\n",
       "      <td>-0.035832</td>\n",
       "      <td>0.000047</td>\n",
       "      <td>-0.087166</td>\n",
       "      <td>0.000004</td>\n",
       "      <td>-0.039260</td>\n",
       "      <td>0.000056</td>\n",
       "      <td>-0.062571</td>\n",
       "      <td>0.000011</td>\n",
       "      <td>-0.049922</td>\n",
       "      <td>0.000029</td>\n",
       "      <td>-0.110215</td>\n",
       "      <td>0.000032</td>\n",
       "      <td>-0.110333</td>\n",
       "      <td>0.000012</td>\n",
       "    </tr>\n",
       "    <tr>\n",
       "      <th>25%</th>\n",
       "      <td>1772.583333</td>\n",
       "      <td>16999.000000</td>\n",
       "      <td>0.100891</td>\n",
       "      <td>0.096310</td>\n",
       "      <td>0.051459</td>\n",
       "      <td>0.108250</td>\n",
       "      <td>0.053352</td>\n",
       "      <td>0.104866</td>\n",
       "      <td>0.050005</td>\n",
       "      <td>0.100058</td>\n",
       "      <td>0.053632</td>\n",
       "      <td>0.105956</td>\n",
       "      <td>0.053095</td>\n",
       "      <td>0.133553</td>\n",
       "      <td>0.035268</td>\n",
       "      <td>0.133523</td>\n",
       "      <td>0.035233</td>\n",
       "    </tr>\n",
       "    <tr>\n",
       "      <th>50%</th>\n",
       "      <td>3351.333333</td>\n",
       "      <td>17507.000000</td>\n",
       "      <td>0.191223</td>\n",
       "      <td>0.175980</td>\n",
       "      <td>0.121957</td>\n",
       "      <td>0.190612</td>\n",
       "      <td>0.119414</td>\n",
       "      <td>0.185445</td>\n",
       "      <td>0.119178</td>\n",
       "      <td>0.180865</td>\n",
       "      <td>0.122796</td>\n",
       "      <td>0.185224</td>\n",
       "      <td>0.119223</td>\n",
       "      <td>0.214746</td>\n",
       "      <td>0.073178</td>\n",
       "      <td>0.214737</td>\n",
       "      <td>0.073166</td>\n",
       "    </tr>\n",
       "    <tr>\n",
       "      <th>75%</th>\n",
       "      <td>6128.958333</td>\n",
       "      <td>18036.000000</td>\n",
       "      <td>0.351667</td>\n",
       "      <td>0.299505</td>\n",
       "      <td>0.238786</td>\n",
       "      <td>0.305642</td>\n",
       "      <td>0.232865</td>\n",
       "      <td>0.302314</td>\n",
       "      <td>0.233809</td>\n",
       "      <td>0.306660</td>\n",
       "      <td>0.244066</td>\n",
       "      <td>0.306273</td>\n",
       "      <td>0.235712</td>\n",
       "      <td>0.322579</td>\n",
       "      <td>0.125407</td>\n",
       "      <td>0.322595</td>\n",
       "      <td>0.125383</td>\n",
       "    </tr>\n",
       "    <tr>\n",
       "      <th>max</th>\n",
       "      <td>14456.166667</td>\n",
       "      <td>18570.000000</td>\n",
       "      <td>0.810869</td>\n",
       "      <td>0.848968</td>\n",
       "      <td>0.794229</td>\n",
       "      <td>0.887712</td>\n",
       "      <td>0.819360</td>\n",
       "      <td>0.823272</td>\n",
       "      <td>0.780694</td>\n",
       "      <td>0.822945</td>\n",
       "      <td>0.820663</td>\n",
       "      <td>0.808916</td>\n",
       "      <td>0.778478</td>\n",
       "      <td>0.955848</td>\n",
       "      <td>0.383211</td>\n",
       "      <td>0.956065</td>\n",
       "      <td>0.383111</td>\n",
       "    </tr>\n",
       "  </tbody>\n",
       "</table>\n",
       "</div>"
      ],
      "text/plain": [
       "             Eolien      Capa_eol      TCH_eol  Eol_p_sinus    Err_sinus  \\\n",
       "count   5360.000000   5360.000000  5360.000000  5360.000000  5360.000000   \n",
       "mean    4270.149689  17517.977612     0.245102     0.219094     0.167043   \n",
       "std     3155.214841    599.239016     0.182926     0.163859     0.149554   \n",
       "min       93.833333  16494.000000     0.005102    -0.035832     0.000047   \n",
       "25%     1772.583333  16999.000000     0.100891     0.096310     0.051459   \n",
       "50%     3351.333333  17507.000000     0.191223     0.175980     0.121957   \n",
       "75%     6128.958333  18036.000000     0.351667     0.299505     0.238786   \n",
       "max    14456.166667  18570.000000     0.810869     0.848968     0.794229   \n",
       "\n",
       "        Eol_p_exog     Err_exog  Eol_p_filter  Err_exog_filter  \\\n",
       "count  5360.000000  5360.000000   5360.000000      5360.000000   \n",
       "mean      0.225329     0.162110      0.224965         0.163398   \n",
       "std       0.157409     0.143706      0.158937         0.146406   \n",
       "min      -0.087166     0.000004     -0.039260         0.000056   \n",
       "25%       0.108250     0.053352      0.104866         0.050005   \n",
       "50%       0.190612     0.119414      0.185445         0.119178   \n",
       "75%       0.305642     0.232865      0.302314         0.233809   \n",
       "max       0.887712     0.819360      0.823272         0.780694   \n",
       "\n",
       "       Eol_p_reduit_noreg  Err_filter_noreg  Eol_p_reduit  \\\n",
       "count         5360.000000       5360.000000   5360.000000   \n",
       "mean             0.223294          0.168109      0.224962   \n",
       "std              0.165437          0.149172      0.161084   \n",
       "min             -0.062571          0.000011     -0.049922   \n",
       "25%              0.100058          0.053632      0.105956   \n",
       "50%              0.180865          0.122796      0.185224   \n",
       "75%              0.306660          0.244066      0.306273   \n",
       "max              0.822945          0.820663      0.808916   \n",
       "\n",
       "       Err_filter_exog_filter  Eol_p_LinReg   Err_LinReg  Eol_p_LinReg_filter  \\\n",
       "count             5360.000000   5360.000000  5360.000000          5360.000000   \n",
       "mean                 0.164394      0.235601     0.087550             0.235608   \n",
       "std                  0.146272      0.146345     0.066781             0.146362   \n",
       "min                  0.000029     -0.110215     0.000032            -0.110333   \n",
       "25%                  0.053095      0.133553     0.035268             0.133523   \n",
       "50%                  0.119223      0.214746     0.073178             0.214737   \n",
       "75%                  0.235712      0.322579     0.125407             0.322595   \n",
       "max                  0.778478      0.955848     0.383211             0.956065   \n",
       "\n",
       "       Err_LinReg_filter  \n",
       "count        5360.000000  \n",
       "mean            0.087546  \n",
       "std             0.066780  \n",
       "min             0.000012  \n",
       "25%             0.035233  \n",
       "50%             0.073166  \n",
       "75%             0.125383  \n",
       "max             0.383111  "
      ]
     },
     "execution_count": 82,
     "metadata": {},
     "output_type": "execute_result"
    }
   ],
   "source": [
    "bilan['Err_LinReg_filter'] = np.abs(bilan['Eol_p_LinReg_filter'] - bilan['TCH_eol'])\n",
    "bilan.describe()"
   ]
  },
  {
   "cell_type": "markdown",
   "metadata": {},
   "source": [
    "# Calcul de la prediction : TCH x Capacité"
   ]
  },
  {
   "cell_type": "code",
   "execution_count": 83,
   "metadata": {},
   "outputs": [
    {
     "data": {
      "text/html": [
       "<div>\n",
       "<style scoped>\n",
       "    .dataframe tbody tr th:only-of-type {\n",
       "        vertical-align: middle;\n",
       "    }\n",
       "\n",
       "    .dataframe tbody tr th {\n",
       "        vertical-align: top;\n",
       "    }\n",
       "\n",
       "    .dataframe thead th {\n",
       "        text-align: right;\n",
       "    }\n",
       "</style>\n",
       "<table border=\"1\" class=\"dataframe\">\n",
       "  <thead>\n",
       "    <tr style=\"text-align: right;\">\n",
       "      <th></th>\n",
       "      <th>Eolien</th>\n",
       "      <th>Capa_eol</th>\n",
       "      <th>TCH_eol</th>\n",
       "      <th>Eol_p_sinus</th>\n",
       "      <th>Err_sinus</th>\n",
       "      <th>Eol_p_exog</th>\n",
       "      <th>Err_exog</th>\n",
       "      <th>Eol_p_filter</th>\n",
       "      <th>Err_exog_filter</th>\n",
       "      <th>Eol_p_reduit_noreg</th>\n",
       "      <th>Err_filter_noreg</th>\n",
       "      <th>Eol_p_reduit</th>\n",
       "      <th>Err_filter_exog_filter</th>\n",
       "      <th>Eol_p_LinReg</th>\n",
       "      <th>Err_LinReg</th>\n",
       "      <th>Eol_p_LinReg_filter</th>\n",
       "      <th>Err_LinReg_filter</th>\n",
       "    </tr>\n",
       "  </thead>\n",
       "  <tbody>\n",
       "    <tr>\n",
       "      <th>count</th>\n",
       "      <td>5360.000000</td>\n",
       "      <td>5360.000000</td>\n",
       "      <td>5360.000000</td>\n",
       "      <td>5360.000000</td>\n",
       "      <td>5360.000000</td>\n",
       "      <td>5360.000000</td>\n",
       "      <td>5360.000000</td>\n",
       "      <td>5360.000000</td>\n",
       "      <td>5360.000000</td>\n",
       "      <td>5360.000000</td>\n",
       "      <td>5360.000000</td>\n",
       "      <td>5360.000000</td>\n",
       "      <td>5360.000000</td>\n",
       "      <td>5360.000000</td>\n",
       "      <td>5360.000000</td>\n",
       "      <td>5360.000000</td>\n",
       "      <td>5360.000000</td>\n",
       "    </tr>\n",
       "    <tr>\n",
       "      <th>mean</th>\n",
       "      <td>4270.149689</td>\n",
       "      <td>17517.977612</td>\n",
       "      <td>0.245102</td>\n",
       "      <td>3826.594999</td>\n",
       "      <td>2911.169907</td>\n",
       "      <td>3933.381650</td>\n",
       "      <td>2826.739564</td>\n",
       "      <td>3928.797872</td>\n",
       "      <td>2847.921585</td>\n",
       "      <td>3899.911704</td>\n",
       "      <td>2930.240038</td>\n",
       "      <td>3928.468724</td>\n",
       "      <td>2865.486677</td>\n",
       "      <td>4114.522802</td>\n",
       "      <td>1530.205978</td>\n",
       "      <td>4114.652593</td>\n",
       "      <td>1530.136953</td>\n",
       "    </tr>\n",
       "    <tr>\n",
       "      <th>std</th>\n",
       "      <td>3155.214841</td>\n",
       "      <td>599.239016</td>\n",
       "      <td>0.182926</td>\n",
       "      <td>2855.018240</td>\n",
       "      <td>2594.516329</td>\n",
       "      <td>2739.601372</td>\n",
       "      <td>2495.280899</td>\n",
       "      <td>2768.173054</td>\n",
       "      <td>2540.222932</td>\n",
       "      <td>2881.592195</td>\n",
       "      <td>2587.538658</td>\n",
       "      <td>2805.131353</td>\n",
       "      <td>2537.796713</td>\n",
       "      <td>2523.154552</td>\n",
       "      <td>1161.551787</td>\n",
       "      <td>2523.431825</td>\n",
       "      <td>1161.529386</td>\n",
       "    </tr>\n",
       "    <tr>\n",
       "      <th>min</th>\n",
       "      <td>93.833333</td>\n",
       "      <td>16494.000000</td>\n",
       "      <td>0.005102</td>\n",
       "      <td>-648.371100</td>\n",
       "      <td>0.845849</td>\n",
       "      <td>-1602.977928</td>\n",
       "      <td>0.063870</td>\n",
       "      <td>-688.188215</td>\n",
       "      <td>0.948028</td>\n",
       "      <td>-1143.668679</td>\n",
       "      <td>0.202723</td>\n",
       "      <td>-909.737415</td>\n",
       "      <td>0.520115</td>\n",
       "      <td>-1851.393832</td>\n",
       "      <td>0.583818</td>\n",
       "      <td>-1853.380451</td>\n",
       "      <td>0.221954</td>\n",
       "    </tr>\n",
       "    <tr>\n",
       "      <th>25%</th>\n",
       "      <td>1772.583333</td>\n",
       "      <td>16999.000000</td>\n",
       "      <td>0.100891</td>\n",
       "      <td>1697.358305</td>\n",
       "      <td>902.378416</td>\n",
       "      <td>1917.745147</td>\n",
       "      <td>937.365075</td>\n",
       "      <td>1837.651120</td>\n",
       "      <td>876.407062</td>\n",
       "      <td>1754.849295</td>\n",
       "      <td>935.000293</td>\n",
       "      <td>1870.593346</td>\n",
       "      <td>934.939288</td>\n",
       "      <td>2337.794354</td>\n",
       "      <td>617.850932</td>\n",
       "      <td>2337.128247</td>\n",
       "      <td>618.213847</td>\n",
       "    </tr>\n",
       "    <tr>\n",
       "      <th>50%</th>\n",
       "      <td>3351.333333</td>\n",
       "      <td>17507.000000</td>\n",
       "      <td>0.191223</td>\n",
       "      <td>3075.960803</td>\n",
       "      <td>2124.098005</td>\n",
       "      <td>3312.643332</td>\n",
       "      <td>2096.749750</td>\n",
       "      <td>3262.073198</td>\n",
       "      <td>2089.029384</td>\n",
       "      <td>3146.472079</td>\n",
       "      <td>2152.665702</td>\n",
       "      <td>3242.518290</td>\n",
       "      <td>2094.581904</td>\n",
       "      <td>3775.127048</td>\n",
       "      <td>1281.915631</td>\n",
       "      <td>3776.732468</td>\n",
       "      <td>1281.444978</td>\n",
       "    </tr>\n",
       "    <tr>\n",
       "      <th>75%</th>\n",
       "      <td>6128.958333</td>\n",
       "      <td>18036.000000</td>\n",
       "      <td>0.351667</td>\n",
       "      <td>5188.299400</td>\n",
       "      <td>4164.620465</td>\n",
       "      <td>5370.999785</td>\n",
       "      <td>4047.881504</td>\n",
       "      <td>5240.401407</td>\n",
       "      <td>4066.105815</td>\n",
       "      <td>5361.521339</td>\n",
       "      <td>4236.200944</td>\n",
       "      <td>5353.807890</td>\n",
       "      <td>4106.492929</td>\n",
       "      <td>5669.611091</td>\n",
       "      <td>2201.871620</td>\n",
       "      <td>5668.913552</td>\n",
       "      <td>2202.343683</td>\n",
       "    </tr>\n",
       "    <tr>\n",
       "      <th>max</th>\n",
       "      <td>14456.166667</td>\n",
       "      <td>18570.000000</td>\n",
       "      <td>0.810869</td>\n",
       "      <td>15008.054479</td>\n",
       "      <td>14159.509018</td>\n",
       "      <td>15724.034083</td>\n",
       "      <td>14607.543473</td>\n",
       "      <td>14457.415369</td>\n",
       "      <td>13918.205655</td>\n",
       "      <td>14290.990636</td>\n",
       "      <td>14630.785328</td>\n",
       "      <td>14147.062109</td>\n",
       "      <td>13878.704594</td>\n",
       "      <td>15880.452234</td>\n",
       "      <td>6728.744457</td>\n",
       "      <td>15884.064298</td>\n",
       "      <td>6730.827514</td>\n",
       "    </tr>\n",
       "  </tbody>\n",
       "</table>\n",
       "</div>"
      ],
      "text/plain": [
       "             Eolien      Capa_eol      TCH_eol   Eol_p_sinus     Err_sinus  \\\n",
       "count   5360.000000   5360.000000  5360.000000   5360.000000   5360.000000   \n",
       "mean    4270.149689  17517.977612     0.245102   3826.594999   2911.169907   \n",
       "std     3155.214841    599.239016     0.182926   2855.018240   2594.516329   \n",
       "min       93.833333  16494.000000     0.005102   -648.371100      0.845849   \n",
       "25%     1772.583333  16999.000000     0.100891   1697.358305    902.378416   \n",
       "50%     3351.333333  17507.000000     0.191223   3075.960803   2124.098005   \n",
       "75%     6128.958333  18036.000000     0.351667   5188.299400   4164.620465   \n",
       "max    14456.166667  18570.000000     0.810869  15008.054479  14159.509018   \n",
       "\n",
       "         Eol_p_exog      Err_exog  Eol_p_filter  Err_exog_filter  \\\n",
       "count   5360.000000   5360.000000   5360.000000      5360.000000   \n",
       "mean    3933.381650   2826.739564   3928.797872      2847.921585   \n",
       "std     2739.601372   2495.280899   2768.173054      2540.222932   \n",
       "min    -1602.977928      0.063870   -688.188215         0.948028   \n",
       "25%     1917.745147    937.365075   1837.651120       876.407062   \n",
       "50%     3312.643332   2096.749750   3262.073198      2089.029384   \n",
       "75%     5370.999785   4047.881504   5240.401407      4066.105815   \n",
       "max    15724.034083  14607.543473  14457.415369     13918.205655   \n",
       "\n",
       "       Eol_p_reduit_noreg  Err_filter_noreg  Eol_p_reduit  \\\n",
       "count         5360.000000       5360.000000   5360.000000   \n",
       "mean          3899.911704       2930.240038   3928.468724   \n",
       "std           2881.592195       2587.538658   2805.131353   \n",
       "min          -1143.668679          0.202723   -909.737415   \n",
       "25%           1754.849295        935.000293   1870.593346   \n",
       "50%           3146.472079       2152.665702   3242.518290   \n",
       "75%           5361.521339       4236.200944   5353.807890   \n",
       "max          14290.990636      14630.785328  14147.062109   \n",
       "\n",
       "       Err_filter_exog_filter  Eol_p_LinReg   Err_LinReg  Eol_p_LinReg_filter  \\\n",
       "count             5360.000000   5360.000000  5360.000000          5360.000000   \n",
       "mean              2865.486677   4114.522802  1530.205978          4114.652593   \n",
       "std               2537.796713   2523.154552  1161.551787          2523.431825   \n",
       "min                  0.520115  -1851.393832     0.583818         -1853.380451   \n",
       "25%                934.939288   2337.794354   617.850932          2337.128247   \n",
       "50%               2094.581904   3775.127048  1281.915631          3776.732468   \n",
       "75%               4106.492929   5669.611091  2201.871620          5668.913552   \n",
       "max              13878.704594  15880.452234  6728.744457         15884.064298   \n",
       "\n",
       "       Err_LinReg_filter  \n",
       "count        5360.000000  \n",
       "mean         1530.136953  \n",
       "std          1161.529386  \n",
       "min             0.221954  \n",
       "25%           618.213847  \n",
       "50%          1281.444978  \n",
       "75%          2202.343683  \n",
       "max          6730.827514  "
      ]
     },
     "execution_count": 83,
     "metadata": {},
     "output_type": "execute_result"
    }
   ],
   "source": [
    "bilan['Eol_p_sinus'] = bilan['Eol_p_sinus'] * bilan['Capa_eol']\n",
    "bilan['Err_sinus'] = bilan['Err_sinus'] * bilan['Capa_eol']\n",
    "bilan['Eol_p_exog'] = bilan['Eol_p_exog'] * bilan['Capa_eol']\n",
    "bilan['Err_exog'] = bilan['Err_exog'] * bilan['Capa_eol']\n",
    "bilan['Eol_p_filter'] = bilan['Eol_p_filter'] * bilan['Capa_eol']\n",
    "bilan['Err_exog_filter'] = bilan['Err_exog_filter'] * bilan['Capa_eol']\n",
    "bilan['Eol_p_reduit_noreg'] = bilan['Eol_p_reduit_noreg'] * bilan['Capa_eol']\n",
    "bilan['Err_filter_noreg'] = bilan['Err_filter_noreg'] * bilan['Capa_eol']\n",
    "bilan['Eol_p_reduit'] = bilan['Eol_p_reduit'] * bilan['Capa_eol']\n",
    "bilan['Err_filter_exog_filter'] = bilan['Err_filter_exog_filter'] * bilan['Capa_eol']\n",
    "bilan['Eol_p_LinReg'] = bilan['Eol_p_LinReg'] * bilan['Capa_eol']\n",
    "bilan['Err_LinReg'] = bilan['Err_LinReg'] * bilan['Capa_eol']\n",
    "bilan['Eol_p_LinReg_filter'] = bilan['Eol_p_LinReg_filter'] * bilan['Capa_eol']\n",
    "bilan['Err_LinReg_filter'] = bilan['Err_LinReg_filter'] * bilan['Capa_eol']\n",
    "bilan.describe()"
   ]
  },
  {
   "cell_type": "markdown",
   "metadata": {},
   "source": [
    "# Visualisation réel vs prédictions"
   ]
  },
  {
   "cell_type": "code",
   "execution_count": 84,
   "metadata": {},
   "outputs": [
    {
     "data": {
      "image/png": "[encoded data removed]",
      "text/plain": [
       "<Figure size 1296x648 with 1 Axes>"
      ]
     },
     "metadata": {
      "needs_background": "light"
     },
     "output_type": "display_data"
    }
   ],
   "source": [
    "plt.figure(figsize=(18,9))\n",
    "plt.plot(bilan['Eolien'].resample('W').mean(), color = 'k', label = 'réel')\n",
    "plt.plot(bilan['Eol_p_sinus'].resample('W').mean(), color = 'y', linestyle = '--', alpha = 0.5, label = 'sinus', marker = '>')\n",
    "plt.plot(bilan['Eol_p_exog'].resample('W').mean(), color = 'b', linestyle = '--', alpha = 0.5, label = 'exog')\n",
    "plt.plot(bilan['Eol_p_filter'].resample('W').mean(), color = 'b', linestyle = ':', alpha = 0.5, label = 'exog filtré')\n",
    "plt.plot(bilan['Eol_p_reduit_noreg'].resample('W').mean(), color = 'r', linestyle = '--', alpha = 0.5, label = 'filtré sans exog')\n",
    "plt.plot(bilan['Eol_p_reduit'].resample('W').mean(), color = 'r', linestyle = ':', alpha = 0.5, label = 'filtré + exog filtré')\n",
    "plt.plot(bilan['Eol_p_LinReg'].resample('W').mean(), color = 'g', linestyle = '--', alpha = 0.5, label = 'RegLin')\n",
    "plt.plot(bilan['Eol_p_LinReg_filter'].resample('W').mean(), color = 'g', linestyle = ':', alpha = 0.5, label = 'RegLin filtré')\n",
    "plt.legend(loc = 'upper right')\n",
    "plt.title('Prediction Eolien (3h)')\n",
    "plt.savefig('./results/3h/pred_eolien_3h.png');"
   ]
  },
  {
   "cell_type": "markdown",
   "metadata": {},
   "source": [
    "# Synthèse des erreurs"
   ]
  },
  {
   "cell_type": "code",
   "execution_count": 85,
   "metadata": {},
   "outputs": [
    {
     "data": {
      "text/html": [
       "<div>\n",
       "<style scoped>\n",
       "    .dataframe tbody tr th:only-of-type {\n",
       "        vertical-align: middle;\n",
       "    }\n",
       "\n",
       "    .dataframe tbody tr th {\n",
       "        vertical-align: top;\n",
       "    }\n",
       "\n",
       "    .dataframe thead th {\n",
       "        text-align: right;\n",
       "    }\n",
       "</style>\n",
       "<table border=\"1\" class=\"dataframe\">\n",
       "  <thead>\n",
       "    <tr style=\"text-align: right;\">\n",
       "      <th></th>\n",
       "      <th>Err_sinus</th>\n",
       "      <th>Err_exog</th>\n",
       "      <th>Err_exog_filter</th>\n",
       "      <th>Err_filter_noreg</th>\n",
       "      <th>Err_filter_exog_filter</th>\n",
       "      <th>Err_LinReg</th>\n",
       "      <th>Err_LinReg_filter</th>\n",
       "    </tr>\n",
       "  </thead>\n",
       "  <tbody>\n",
       "    <tr>\n",
       "      <th>count</th>\n",
       "      <td>5360.000000</td>\n",
       "      <td>5360.000000</td>\n",
       "      <td>5360.000000</td>\n",
       "      <td>5360.000000</td>\n",
       "      <td>5360.000000</td>\n",
       "      <td>5360.000000</td>\n",
       "      <td>5360.000000</td>\n",
       "    </tr>\n",
       "    <tr>\n",
       "      <th>mean</th>\n",
       "      <td>2911.169907</td>\n",
       "      <td>2826.739564</td>\n",
       "      <td>2847.921585</td>\n",
       "      <td>2930.240038</td>\n",
       "      <td>2865.486677</td>\n",
       "      <td>1530.205978</td>\n",
       "      <td>1530.136953</td>\n",
       "    </tr>\n",
       "    <tr>\n",
       "      <th>std</th>\n",
       "      <td>2594.516329</td>\n",
       "      <td>2495.280899</td>\n",
       "      <td>2540.222932</td>\n",
       "      <td>2587.538658</td>\n",
       "      <td>2537.796713</td>\n",
       "      <td>1161.551787</td>\n",
       "      <td>1161.529386</td>\n",
       "    </tr>\n",
       "    <tr>\n",
       "      <th>min</th>\n",
       "      <td>0.845849</td>\n",
       "      <td>0.063870</td>\n",
       "      <td>0.948028</td>\n",
       "      <td>0.202723</td>\n",
       "      <td>0.520115</td>\n",
       "      <td>0.583818</td>\n",
       "      <td>0.221954</td>\n",
       "    </tr>\n",
       "    <tr>\n",
       "      <th>25%</th>\n",
       "      <td>902.378416</td>\n",
       "      <td>937.365075</td>\n",
       "      <td>876.407062</td>\n",
       "      <td>935.000293</td>\n",
       "      <td>934.939288</td>\n",
       "      <td>617.850932</td>\n",
       "      <td>618.213847</td>\n",
       "    </tr>\n",
       "    <tr>\n",
       "      <th>50%</th>\n",
       "      <td>2124.098005</td>\n",
       "      <td>2096.749750</td>\n",
       "      <td>2089.029384</td>\n",
       "      <td>2152.665702</td>\n",
       "      <td>2094.581904</td>\n",
       "      <td>1281.915631</td>\n",
       "      <td>1281.444978</td>\n",
       "    </tr>\n",
       "    <tr>\n",
       "      <th>75%</th>\n",
       "      <td>4164.620465</td>\n",
       "      <td>4047.881504</td>\n",
       "      <td>4066.105815</td>\n",
       "      <td>4236.200944</td>\n",
       "      <td>4106.492929</td>\n",
       "      <td>2201.871620</td>\n",
       "      <td>2202.343683</td>\n",
       "    </tr>\n",
       "    <tr>\n",
       "      <th>max</th>\n",
       "      <td>14159.509018</td>\n",
       "      <td>14607.543473</td>\n",
       "      <td>13918.205655</td>\n",
       "      <td>14630.785328</td>\n",
       "      <td>13878.704594</td>\n",
       "      <td>6728.744457</td>\n",
       "      <td>6730.827514</td>\n",
       "    </tr>\n",
       "  </tbody>\n",
       "</table>\n",
       "</div>"
      ],
      "text/plain": [
       "          Err_sinus      Err_exog  Err_exog_filter  Err_filter_noreg  \\\n",
       "count   5360.000000   5360.000000      5360.000000       5360.000000   \n",
       "mean    2911.169907   2826.739564      2847.921585       2930.240038   \n",
       "std     2594.516329   2495.280899      2540.222932       2587.538658   \n",
       "min        0.845849      0.063870         0.948028          0.202723   \n",
       "25%      902.378416    937.365075       876.407062        935.000293   \n",
       "50%     2124.098005   2096.749750      2089.029384       2152.665702   \n",
       "75%     4164.620465   4047.881504      4066.105815       4236.200944   \n",
       "max    14159.509018  14607.543473     13918.205655      14630.785328   \n",
       "\n",
       "       Err_filter_exog_filter   Err_LinReg  Err_LinReg_filter  \n",
       "count             5360.000000  5360.000000        5360.000000  \n",
       "mean              2865.486677  1530.205978        1530.136953  \n",
       "std               2537.796713  1161.551787        1161.529386  \n",
       "min                  0.520115     0.583818           0.221954  \n",
       "25%                934.939288   617.850932         618.213847  \n",
       "50%               2094.581904  1281.915631        1281.444978  \n",
       "75%               4106.492929  2201.871620        2202.343683  \n",
       "max              13878.704594  6728.744457        6730.827514  "
      ]
     },
     "execution_count": 85,
     "metadata": {},
     "output_type": "execute_result"
    }
   ],
   "source": [
    "erreur = bilan[['Err_sinus',\n",
    "       'Err_exog',\n",
    "       'Err_exog_filter',\n",
    "       'Err_filter_noreg',\n",
    "       'Err_filter_exog_filter',\n",
    "       'Err_LinReg',\n",
    "       'Err_LinReg_filter'\n",
    "      ]].describe()\n",
    "erreur"
   ]
  },
  {
   "cell_type": "code",
   "execution_count": 86,
   "metadata": {},
   "outputs": [
    {
     "data": {
      "text/plain": [
       "Index(['Vent', 'Humidite', 'Pluie_eol', 'Temperature_eol', 'Diff_pression'], dtype='object')"
      ]
     },
     "execution_count": 86,
     "metadata": {},
     "output_type": "execute_result"
    }
   ],
   "source": [
    "exog_test.columns"
   ]
  },
  {
   "cell_type": "code",
   "execution_count": 87,
   "metadata": {},
   "outputs": [
    {
     "data": {
      "text/plain": [
       "array([ 9.64707422e-02,  4.62936594e-03,  2.87590008e-02, -5.24688740e-04,\n",
       "       -6.80994248e-05])"
      ]
     },
     "execution_count": 87,
     "metadata": {},
     "output_type": "execute_result"
    }
   ],
   "source": [
    "LinReg.coef_"
   ]
  },
  {
   "cell_type": "code",
   "execution_count": 88,
   "metadata": {},
   "outputs": [],
   "source": [
    "bilan.to_csv('./results/3h/bilan_eolien_3h.csv', sep = ';')\n",
    "erreur.to_csv('./results/3h/erreur_eolien_3h.csv', sep = ';')"
   ]
  },
  {
   "cell_type": "code",
   "execution_count": null,
   "metadata": {},
   "outputs": [],
   "source": []
  }
 ],
 "metadata": {
  "kernelspec": {
   "display_name": "Python 3",
   "language": "python",
   "name": "python3"
  },
  "language_info": {
   "codemirror_mode": {
    "name": "ipython",
    "version": 3
   },
   "file_extension": ".py",
   "mimetype": "text/x-python",
   "name": "python",
   "nbconvert_exporter": "python",
   "pygments_lexer": "ipython3",
   "version": "3.8.5"
  }
 },
 "nbformat": 4,
 "nbformat_minor": 2
}
